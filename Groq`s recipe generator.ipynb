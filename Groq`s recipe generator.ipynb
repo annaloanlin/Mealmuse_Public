{
 "cells": [
  {
   "cell_type": "code",
   "execution_count": 1,
   "metadata": {},
   "outputs": [],
   "source": [
    "import itertools\n",
    "import re\n",
    "import numpy as np\n",
    "import pandas as pd\n",
    "import openai\n",
    "import pandas as pd\n",
    "import itertools\n",
    "import streamlit as st\n",
    "import pickle\n",
    "# Anna's imports\n",
    "from transformers import FlaxAutoModelForSeq2SeqLM\n",
    "from transformers import AutoTokenizer\n",
    "import matplotlib.pyplot as plt\n",
    "import matplotlib.image as mpimg\n",
    "from gradio_client import Client\n",
    "from transformers import pipeline\n",
    "from groq import Groq\n"
   ]
  },
  {
   "cell_type": "code",
   "execution_count": 2,
   "metadata": {},
   "outputs": [],
   "source": [
    "def combinations_of_two(ingredients_input): ###dealt with the issue of missing space crash\n",
    "\n",
    "    '''\n",
    "    The function generates all unique pairs of ingredients that can be made from the input list of ingredients.\n",
    "    NOTE FOR FRONT-END: The output of this function is the input for data_query()\n",
    "    '''\n",
    "\n",
    "    ingredients_combinations = []\n",
    "    powerpowerset = []\n",
    "    ingredients = re.split(r',', ingredients_input.strip())\n",
    "    ingredients_list = list(set(ingredient.strip() for ingredient in ingredients))\n",
    "    for r in range(len(ingredients_list)+1):\n",
    "        combinations = itertools.combinations(ingredients_list, r)\n",
    "        #powerset.extend(subset for subset in combinations if len(subset) > 1)\n",
    "        for comb in combinations:\n",
    "            if len(comb) > 1:\n",
    "                if len(comb) < 3:\n",
    "                    ingredients_combinations.append(comb)\n",
    "                else:\n",
    "                    powerpowerset.append(comb)\n",
    "                    for power in powerpowerset:\n",
    "                        lowerset = []\n",
    "                        combins = itertools.combinations(power, 2)\n",
    "                        for arrange in combins:\n",
    "                            lowerset.append(arrange)\n",
    "                    ingredients_combinations.append(lowerset)\n",
    "    return ingredients_combinations\n",
    "\n",
    "combinations = combinations_of_two('chicken, onion, garlic, cheese')"
   ]
  },
  {
   "cell_type": "code",
   "execution_count": 5,
   "metadata": {},
   "outputs": [],
   "source": [
    "df = pd.read_parquet('Halved-DF.parquet.gzip')"
   ]
  },
  {
   "cell_type": "code",
   "execution_count": 6,
   "metadata": {},
   "outputs": [
    {
     "data": {
      "text/html": [
       "<div>\n",
       "<style scoped>\n",
       "    .dataframe tbody tr th:only-of-type {\n",
       "        vertical-align: middle;\n",
       "    }\n",
       "\n",
       "    .dataframe tbody tr th {\n",
       "        vertical-align: top;\n",
       "    }\n",
       "\n",
       "    .dataframe thead th {\n",
       "        text-align: right;\n",
       "    }\n",
       "</style>\n",
       "<table border=\"1\" class=\"dataframe\">\n",
       "  <thead>\n",
       "    <tr style=\"text-align: right;\">\n",
       "      <th></th>\n",
       "      <th>Combination</th>\n",
       "      <th>Score</th>\n",
       "    </tr>\n",
       "  </thead>\n",
       "  <tbody>\n",
       "    <tr>\n",
       "      <th>0</th>\n",
       "      <td>(garlic, cheese)</td>\n",
       "      <td>[1.0944496012124034]</td>\n",
       "    </tr>\n",
       "    <tr>\n",
       "      <th>1</th>\n",
       "      <td>(garlic, onion)</td>\n",
       "      <td>[1.4235409132992736]</td>\n",
       "    </tr>\n",
       "    <tr>\n",
       "      <th>2</th>\n",
       "      <td>(garlic, chicken)</td>\n",
       "      <td>[1.1800811339314616]</td>\n",
       "    </tr>\n",
       "    <tr>\n",
       "      <th>3</th>\n",
       "      <td>(cheese, onion)</td>\n",
       "      <td>[1.4120038875676597]</td>\n",
       "    </tr>\n",
       "    <tr>\n",
       "      <th>4</th>\n",
       "      <td>(cheese, chicken)</td>\n",
       "      <td>[1.0177501859513405]</td>\n",
       "    </tr>\n",
       "    <tr>\n",
       "      <th>5</th>\n",
       "      <td>(onion, chicken)</td>\n",
       "      <td>[1.3248796627107513]</td>\n",
       "    </tr>\n",
       "    <tr>\n",
       "      <th>6</th>\n",
       "      <td>[(garlic, cheese), (garlic, onion), (cheese, o...</td>\n",
       "      <td>[1.0944496012124034, 1.4235409132992736, 1.412...</td>\n",
       "    </tr>\n",
       "    <tr>\n",
       "      <th>7</th>\n",
       "      <td>[(garlic, cheese), (garlic, chicken), (cheese,...</td>\n",
       "      <td>[1.0944496012124034, 1.1800811339314616, 1.017...</td>\n",
       "    </tr>\n",
       "    <tr>\n",
       "      <th>8</th>\n",
       "      <td>[(garlic, onion), (garlic, chicken), (onion, c...</td>\n",
       "      <td>[1.4235409132992736, 1.1800811339314616, 1.324...</td>\n",
       "    </tr>\n",
       "    <tr>\n",
       "      <th>9</th>\n",
       "      <td>[(cheese, onion), (cheese, chicken), (onion, c...</td>\n",
       "      <td>[1.4120038875676597, 1.0177501859513405, 1.324...</td>\n",
       "    </tr>\n",
       "    <tr>\n",
       "      <th>10</th>\n",
       "      <td>[(garlic, cheese), (garlic, onion), (garlic, c...</td>\n",
       "      <td>[1.0944496012124034, 1.4235409132992736, 1.180...</td>\n",
       "    </tr>\n",
       "  </tbody>\n",
       "</table>\n",
       "</div>"
      ],
      "text/plain": [
       "                                          Combination  \\\n",
       "0                                    (garlic, cheese)   \n",
       "1                                     (garlic, onion)   \n",
       "2                                   (garlic, chicken)   \n",
       "3                                     (cheese, onion)   \n",
       "4                                   (cheese, chicken)   \n",
       "5                                    (onion, chicken)   \n",
       "6   [(garlic, cheese), (garlic, onion), (cheese, o...   \n",
       "7   [(garlic, cheese), (garlic, chicken), (cheese,...   \n",
       "8   [(garlic, onion), (garlic, chicken), (onion, c...   \n",
       "9   [(cheese, onion), (cheese, chicken), (onion, c...   \n",
       "10  [(garlic, cheese), (garlic, onion), (garlic, c...   \n",
       "\n",
       "                                                Score  \n",
       "0                                [1.0944496012124034]  \n",
       "1                                [1.4235409132992736]  \n",
       "2                                [1.1800811339314616]  \n",
       "3                                [1.4120038875676597]  \n",
       "4                                [1.0177501859513405]  \n",
       "5                                [1.3248796627107513]  \n",
       "6   [1.0944496012124034, 1.4235409132992736, 1.412...  \n",
       "7   [1.0944496012124034, 1.1800811339314616, 1.017...  \n",
       "8   [1.4235409132992736, 1.1800811339314616, 1.324...  \n",
       "9   [1.4120038875676597, 1.0177501859513405, 1.324...  \n",
       "10  [1.0944496012124034, 1.4235409132992736, 1.180...  "
      ]
     },
     "execution_count": 6,
     "metadata": {},
     "output_type": "execute_result"
    }
   ],
   "source": [
    "def data_query(df, ingredients_combinations): ##Added a penalty of -5 for pairings that are not in the dataframe\n",
    "    data = []\n",
    "    for combination in ingredients_combinations:\n",
    "        if len(combination) < 3:\n",
    "            ingredient1, ingredient2 = combination\n",
    "            query_str = f'(ingredient1 == \"{ingredient1}\" & ingredient2 == \"{ingredient2}\") | (ingredient1 == \"{ingredient2}\" & ingredient2 == \"{ingredient1}\")'\n",
    "            score = df.query(query_str)['scaled_col'].values\n",
    "            if len(score) > 0:\n",
    "                data.append({'Combination': combination, 'Score': score})\n",
    "            else:\n",
    "                continue\n",
    "        else:\n",
    "            scores = []\n",
    "            for i in combination:\n",
    "                ingredient1, ingredient2 = i\n",
    "                query_str = f'(ingredient1 == \"{ingredient1}\" & ingredient2 == \"{ingredient2}\") | (ingredient1 == \"{ingredient2}\" & ingredient2 == \"{ingredient1}\")'\n",
    "                score = df.query(query_str)['scaled_col'].values\n",
    "                if len(score) > 0:\n",
    "                    scores.append(score[0])\n",
    "                else:\n",
    "                    scores.append(-5)\n",
    "            data.append({'Combination': combination, 'Score': scores})\n",
    "\n",
    "    df_comb = pd.DataFrame(data)\n",
    "    return df_comb\n",
    "\n",
    "df_comb = data_query(df, combinations)\n",
    "df_comb"
   ]
  },
  {
   "cell_type": "code",
   "execution_count": 8,
   "metadata": {},
   "outputs": [],
   "source": [
    "def muse_comb(data_query_df): ###If this takes too long, consider taking the nested calculate_sum(array) outside of the function\n",
    "    '''\n",
    "     the function calculates the sum of the \"Score\" values and returns the three combinations with the largest sums\n",
    "     OUTPUT: [['yeast', 'butter', 'eggs', 'pepper', 'cabbage', 'pork', 'flour', 'sugar'],\n",
    "                 ['butter', 'eggs', 'pepper', 'cabbage', 'pork', 'flour', 'sugar'],\n",
    "                 ['yeast', 'butter', 'eggs', 'pepper', 'cabbage', 'flour', 'sugar']]\n",
    "\n",
    "     NOTE FOR FRONT-END: The return is a list of lists so access the values by indexing e.g. output[0]\n",
    "\n",
    "                         The output of this function is the input for the recipe generator\n",
    "\n",
    "                         We might need a function to convert each lists into strings if\n",
    "                         the recipe generator doesn't do this automatically.\n",
    "    '''\n",
    "\n",
    "    def calculate_sum(array):\n",
    "        return sum(array)\n",
    "\n",
    "    def ingredients_to_lists(lists):\n",
    "        ingredients_list = []\n",
    "        for i in range(3):\n",
    "            tmp_list = []\n",
    "            for x in lists[i]:\n",
    "                tmp_list.append(x[0])\n",
    "                tmp_list.append(x[1])\n",
    "            ingredients_list.append(list(set(tmp_list)))\n",
    "\n",
    "        return ingredients_list\n",
    "\n",
    "    for i in range(len(data_query_df)):\n",
    "        data_query_df[\"Sum\"] = data_query_df[\"Score\"].apply(calculate_sum)\n",
    "\n",
    "    max_values = data_query_df.nlargest(3, \"Sum\")\n",
    "\n",
    "    max_values = max_values[\"Combination\"].reset_index(drop=True)\n",
    "\n",
    "    ingredients_lists = ingredients_to_lists(max_values)\n",
    "\n",
    "    return ingredients_lists\n"
   ]
  },
  {
   "cell_type": "code",
   "execution_count": 9,
   "metadata": {},
   "outputs": [
    {
     "data": {
      "text/plain": [
       "[['garlic', 'cheese', 'onion', 'chicken'],\n",
       " ['garlic', 'cheese', 'onion'],\n",
       " ['garlic', 'onion', 'chicken']]"
      ]
     },
     "execution_count": 9,
     "metadata": {},
     "output_type": "execute_result"
    }
   ],
   "source": [
    "lists = muse_comb(df_comb)\n",
    "lists"
   ]
  },
  {
   "cell_type": "code",
   "execution_count": 67,
   "metadata": {},
   "outputs": [
    {
     "name": "stderr",
     "output_type": "stream",
     "text": [
      "2024-05-07 16:17:58.273 INFO    httpx: HTTP Request: POST https://api.groq.com/openai/v1/chat/completions \"HTTP/1.1 200 OK\"\n"
     ]
    },
    {
     "data": {
      "text/plain": [
       "'Here is a recipe that combines the given ingredients:\\n\\n**Garlic Chicken Fritters**\\n\\n**Ingredients:**\\n\\n* 1 lb boneless, skinless chicken breast, cut into small pieces\\n* 2 cloves garlic, minced\\n* 1 medium onion, finely chopped\\n* 1 cup shredded cheese (cheddar or mozzarella work well)\\n* Salt and pepper to taste\\n\\n**Directions:**\\n\\n1. Preheat oven to 375°F (190°C).\\n2. In a bowl, combine chicken, garlic, onion, and cheese.\\n3. Mix well to combine.\\n4. Form into small patties (about 1 inch in diameter).\\n5. Place on a baking sheet lined with parchment paper.\\n6. Bake for 15-20 minutes or until cooked through.\\n7. Serve hot and enjoy!'"
      ]
     },
     "execution_count": 67,
     "metadata": {},
     "output_type": "execute_result"
    }
   ],
   "source": [
    "api_key = \"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\"\n",
    "client = Groq(\n",
    "api_key=api_key\n",
    ")\n",
    "recipe_list = []\n",
    "chat_completion = client.chat.completions.create(\n",
    "    messages=[\n",
    "        {\n",
    "            \"role\": \"user\",\n",
    "            \"content\": f\"Suggest one recipe with {lists[0]} only. The final format of the output should contain Title, Ingredients and Directions only\",\n",
    "        }\n",
    "    ],\n",
    "    model=\"llama3-8b-8192\",\n",
    ")\n",
    "\n",
    "recipe = chat_completion.choices[0].message.content\n",
    "recipe"
   ]
  },
  {
   "cell_type": "code",
   "execution_count": 69,
   "metadata": {},
   "outputs": [
    {
     "data": {
      "text/plain": [
       "{'title': 'Garlic Chicken Fritters',\n",
       " 'ingredients': '* 1 lb boneless, skinless chicken breast, cut into small pieces\\n* 2 cloves garlic, minced\\n* 1 medium onion, finely chopped\\n* 1 cup shredded cheese (cheddar or mozzarella work well)\\n* Salt and pepper to taste',\n",
       " 'directions': '1. Preheat oven to 375°F (190°C).\\n2. In a bowl, combine chicken, garlic, onion, and cheese.\\n3. Mix well to combine.\\n4. Form into small patties (about 1 inch in diameter).\\n5. Place on a baking sheet lined with parchment paper.\\n6. Bake for 15-20 minutes or until cooked through.\\n7. Serve hot and enjoy!'}"
      ]
     },
     "execution_count": 69,
     "metadata": {},
     "output_type": "execute_result"
    }
   ],
   "source": [
    "parts = recipe.split(\"**\")\n",
    "title = parts[1].strip()\n",
    "ingredients = parts[4].strip()\n",
    "directions = parts[6].strip()\n",
    "\n",
    "recipe_dict = {}\n",
    "recipe_dict['title'] = title\n",
    "recipe_dict['ingredients'] = ingredients\n",
    "recipe_dict['directions'] = directions\n",
    "recipe_dict"
   ]
  },
  {
   "cell_type": "code",
   "execution_count": 70,
   "metadata": {},
   "outputs": [],
   "source": [
    "def groq_recipe_generator(lists):\n",
    "    api_key = \"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\"\n",
    "    client = Groq(\n",
    "    api_key=api_key\n",
    "    )\n",
    "    recipe_list = []\n",
    "    for i in range(len(lists)):\n",
    "        chat_completion = client.chat.completions.create(\n",
    "            messages=[\n",
    "                {\n",
    "                    \"role\": \"user\",\n",
    "                    \"content\": f\"Suggest one recipe with {lists[0]} only. The final format of the output should contain Title, Ingredients and Directions only\",\n",
    "                }\n",
    "            ],\n",
    "            model=\"llama3-8b-8192\",\n",
    "        )\n",
    "\n",
    "        recipe = chat_completion.choices[0].message.content\n",
    "\n",
    "        parts = recipe.split(\"**\")\n",
    "        title = parts[1].strip()\n",
    "        ingredients = parts[4].strip()\n",
    "        directions = parts[6].strip()\n",
    "\n",
    "        recipe_dict = {}\n",
    "        recipe_dict['title'] = title\n",
    "        recipe_dict['ingredients'] = ingredients\n",
    "        recipe_dict['directions'] = directions\n",
    "\n",
    "        recipe_list.append(recipe_dict)\n",
    "\n",
    "    return recipe_list\n"
   ]
  },
  {
   "cell_type": "code",
   "execution_count": 71,
   "metadata": {},
   "outputs": [
    {
     "name": "stderr",
     "output_type": "stream",
     "text": [
      "2024-05-07 16:20:09.792 INFO    httpx: HTTP Request: POST https://api.groq.com/openai/v1/chat/completions \"HTTP/1.1 200 OK\"\n",
      "2024-05-07 16:20:10.261 INFO    httpx: HTTP Request: POST https://api.groq.com/openai/v1/chat/completions \"HTTP/1.1 200 OK\"\n",
      "2024-05-07 16:20:10.815 INFO    httpx: HTTP Request: POST https://api.groq.com/openai/v1/chat/completions \"HTTP/1.1 200 OK\"\n"
     ]
    },
    {
     "data": {
      "text/plain": [
       "[{'title': 'Garlic Chicken Crostini',\n",
       "  'ingredients': '* 1 pound boneless, skinless chicken breast, cut into small pieces\\n* 3 cloves garlic, minced\\n* 1 medium onion, finely chopped\\n* 1 cup shredded cheese',\n",
       "  'directions': '1. Preheat oven to 375°F (190°C).\\n2. In a skillet, sauté chicken, garlic, and onion until chicken is cooked through.\\n3. Arrange toasted bread slices on a baking sheet.\\n4. Top each bread slice with a spoonful of the chicken mixture and sprinkle with cheese.\\n5. Bake for 10-12 minutes or until cheese is melted and bubbly.\\n6. Serve warm and enjoy!'},\n",
       " {'title': 'Garlic Chicken Cakes',\n",
       "  'ingredients': '* 1 lb boneless, skinless chicken breast or thighs, cut into small pieces\\n* 2 cloves of garlic, minced\\n* 1 small onion, finely chopped\\n* 1 cup shredded cheese\\n* Salt and pepper to taste',\n",
       "  'directions': '1. Preheat oven to 375°F (190°C).\\n2. In a large bowl, combine chicken, garlic, and onion. Mix well.\\n3. Add shredded cheese and mix until well combined.\\n4. Use your hands to shape mixture into small patties.\\n5. Place patties on a baking sheet lined with parchment paper.\\n6. Bake for 20-25 minutes or until cooked through.\\n7. Serve hot and enjoy!'},\n",
       " {'title': 'Garlic Chicken Frittata',\n",
       "  'ingredients': '* 1 1/2 cups cubed cooked chicken breast\\n* 3 cloves garlic, minced\\n* 1 medium onion, diced\\n* 1 cup shredded cheddar cheese\\n* Salt and pepper to taste',\n",
       "  'directions': '1. Preheat oven to 375°F (190°C).\\n2. In a large skillet, cook the chicken and onion over medium heat until the onion is translucent.\\n3. Add the garlic and cook for an additional minute.\\n4. In a large bowl, whisk together 6 eggs and a pinch of salt and pepper.\\n5. Add the cooked chicken and onion mixture to the eggs and stir until combined.\\n6. Pour the mixture into a greased 9-inch pie plate or skillet.\\n7. Sprinkle the shredded cheese over the top.\\n8. Bake for 25-30 minutes or until the eggs are set and the cheese is melted and golden brown.\\n9. Let cool for a few minutes before slicing and serving.'}]"
      ]
     },
     "execution_count": 71,
     "metadata": {},
     "output_type": "execute_result"
    }
   ],
   "source": [
    "groq_recipe_generator(lists)"
   ]
  },
  {
   "cell_type": "code",
   "execution_count": null,
   "metadata": {},
   "outputs": [],
   "source": []
  }
 ],
 "metadata": {
  "kernelspec": {
   "display_name": "Python 3",
   "language": "python",
   "name": "python3"
  },
  "language_info": {
   "codemirror_mode": {
    "name": "ipython",
    "version": 3
   },
   "file_extension": ".py",
   "mimetype": "text/x-python",
   "name": "python",
   "nbconvert_exporter": "python",
   "pygments_lexer": "ipython3",
   "version": "3.10.6"
  }
 },
 "nbformat": 4,
 "nbformat_minor": 2
}
