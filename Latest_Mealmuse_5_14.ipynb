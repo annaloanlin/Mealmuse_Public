{
  "cells": [
    {
      "cell_type": "code",
      "source": [
        "! pip install gradio_client\n",
        "! pip install groq\n",
        "! pip install transformers"
      ],
      "metadata": {
        "colab": {
          "base_uri": "https://localhost:8080/"
        },
        "id": "wzCz2MHt4Q4v",
        "outputId": "2b9ce666-174f-41f4-876c-744bab932675",
        "collapsed": true
      },
      "execution_count": 1,
      "outputs": [
        {
          "output_type": "stream",
          "name": "stdout",
          "text": [
            "Collecting gradio_client\n",
            "  Downloading gradio_client-0.16.3-py3-none-any.whl (315 kB)\n",
            "\u001b[?25l     \u001b[90m━━━━━━━━━━━━━━━━━━━━━━━━━━━━━━━━━━━━━━━━\u001b[0m \u001b[32m0.0/315.8 kB\u001b[0m \u001b[31m?\u001b[0m eta \u001b[36m-:--:--\u001b[0m\r\u001b[2K     \u001b[91m━━━━━━━━━━━━━━━\u001b[0m\u001b[91m╸\u001b[0m\u001b[90m━━━━━━━━━━━━━━━━━━━━━━━━\u001b[0m \u001b[32m122.9/315.8 kB\u001b[0m \u001b[31m3.5 MB/s\u001b[0m eta \u001b[36m0:00:01\u001b[0m\r\u001b[2K     \u001b[90m━━━━━━━━━━━━━━━━━━━━━━━━━━━━━━━━━━━━━━━━\u001b[0m \u001b[32m315.8/315.8 kB\u001b[0m \u001b[31m4.6 MB/s\u001b[0m eta \u001b[36m0:00:00\u001b[0m\n",
            "\u001b[?25hRequirement already satisfied: fsspec in /usr/local/lib/python3.10/dist-packages (from gradio_client) (2023.6.0)\n",
            "Collecting httpx>=0.24.1 (from gradio_client)\n",
            "  Downloading httpx-0.27.0-py3-none-any.whl (75 kB)\n",
            "\u001b[2K     \u001b[90m━━━━━━━━━━━━━━━━━━━━━━━━━━━━━━━━━━━━━━━━\u001b[0m \u001b[32m75.6/75.6 kB\u001b[0m \u001b[31m4.3 MB/s\u001b[0m eta \u001b[36m0:00:00\u001b[0m\n",
            "\u001b[?25hRequirement already satisfied: huggingface-hub>=0.19.3 in /usr/local/lib/python3.10/dist-packages (from gradio_client) (0.20.3)\n",
            "Requirement already satisfied: packaging in /usr/local/lib/python3.10/dist-packages (from gradio_client) (24.0)\n",
            "Requirement already satisfied: typing-extensions~=4.0 in /usr/local/lib/python3.10/dist-packages (from gradio_client) (4.11.0)\n",
            "Collecting websockets<12.0,>=10.0 (from gradio_client)\n",
            "  Downloading websockets-11.0.3-cp310-cp310-manylinux_2_5_x86_64.manylinux1_x86_64.manylinux_2_17_x86_64.manylinux2014_x86_64.whl (129 kB)\n",
            "\u001b[2K     \u001b[90m━━━━━━━━━━━━━━━━━━━━━━━━━━━━━━━━━━━━━━━━\u001b[0m \u001b[32m129.9/129.9 kB\u001b[0m \u001b[31m4.5 MB/s\u001b[0m eta \u001b[36m0:00:00\u001b[0m\n",
            "\u001b[?25hRequirement already satisfied: anyio in /usr/local/lib/python3.10/dist-packages (from httpx>=0.24.1->gradio_client) (3.7.1)\n",
            "Requirement already satisfied: certifi in /usr/local/lib/python3.10/dist-packages (from httpx>=0.24.1->gradio_client) (2024.2.2)\n",
            "Collecting httpcore==1.* (from httpx>=0.24.1->gradio_client)\n",
            "  Downloading httpcore-1.0.5-py3-none-any.whl (77 kB)\n",
            "\u001b[2K     \u001b[90m━━━━━━━━━━━━━━━━━━━━━━━━━━━━━━━━━━━━━━━━\u001b[0m \u001b[32m77.9/77.9 kB\u001b[0m \u001b[31m5.9 MB/s\u001b[0m eta \u001b[36m0:00:00\u001b[0m\n",
            "\u001b[?25hRequirement already satisfied: idna in /usr/local/lib/python3.10/dist-packages (from httpx>=0.24.1->gradio_client) (3.7)\n",
            "Requirement already satisfied: sniffio in /usr/local/lib/python3.10/dist-packages (from httpx>=0.24.1->gradio_client) (1.3.1)\n",
            "Collecting h11<0.15,>=0.13 (from httpcore==1.*->httpx>=0.24.1->gradio_client)\n",
            "  Downloading h11-0.14.0-py3-none-any.whl (58 kB)\n",
            "\u001b[2K     \u001b[90m━━━━━━━━━━━━━━━━━━━━━━━━━━━━━━━━━━━━━━━━\u001b[0m \u001b[32m58.3/58.3 kB\u001b[0m \u001b[31m5.4 MB/s\u001b[0m eta \u001b[36m0:00:00\u001b[0m\n",
            "\u001b[?25hRequirement already satisfied: filelock in /usr/local/lib/python3.10/dist-packages (from huggingface-hub>=0.19.3->gradio_client) (3.14.0)\n",
            "Requirement already satisfied: requests in /usr/local/lib/python3.10/dist-packages (from huggingface-hub>=0.19.3->gradio_client) (2.31.0)\n",
            "Requirement already satisfied: tqdm>=4.42.1 in /usr/local/lib/python3.10/dist-packages (from huggingface-hub>=0.19.3->gradio_client) (4.66.4)\n",
            "Requirement already satisfied: pyyaml>=5.1 in /usr/local/lib/python3.10/dist-packages (from huggingface-hub>=0.19.3->gradio_client) (6.0.1)\n",
            "Requirement already satisfied: exceptiongroup in /usr/local/lib/python3.10/dist-packages (from anyio->httpx>=0.24.1->gradio_client) (1.2.1)\n",
            "Requirement already satisfied: charset-normalizer<4,>=2 in /usr/local/lib/python3.10/dist-packages (from requests->huggingface-hub>=0.19.3->gradio_client) (3.3.2)\n",
            "Requirement already satisfied: urllib3<3,>=1.21.1 in /usr/local/lib/python3.10/dist-packages (from requests->huggingface-hub>=0.19.3->gradio_client) (2.0.7)\n",
            "Installing collected packages: websockets, h11, httpcore, httpx, gradio_client\n",
            "Successfully installed gradio_client-0.16.3 h11-0.14.0 httpcore-1.0.5 httpx-0.27.0 websockets-11.0.3\n",
            "Collecting groq\n",
            "  Downloading groq-0.5.0-py3-none-any.whl (75 kB)\n",
            "\u001b[2K     \u001b[90m━━━━━━━━━━━━━━━━━━━━━━━━━━━━━━━━━━━━━━━━\u001b[0m \u001b[32m75.0/75.0 kB\u001b[0m \u001b[31m1.0 MB/s\u001b[0m eta \u001b[36m0:00:00\u001b[0m\n",
            "\u001b[?25hRequirement already satisfied: anyio<5,>=3.5.0 in /usr/local/lib/python3.10/dist-packages (from groq) (3.7.1)\n",
            "Requirement already satisfied: distro<2,>=1.7.0 in /usr/lib/python3/dist-packages (from groq) (1.7.0)\n",
            "Requirement already satisfied: httpx<1,>=0.23.0 in /usr/local/lib/python3.10/dist-packages (from groq) (0.27.0)\n",
            "Requirement already satisfied: pydantic<3,>=1.9.0 in /usr/local/lib/python3.10/dist-packages (from groq) (2.7.1)\n",
            "Requirement already satisfied: sniffio in /usr/local/lib/python3.10/dist-packages (from groq) (1.3.1)\n",
            "Requirement already satisfied: typing-extensions<5,>=4.7 in /usr/local/lib/python3.10/dist-packages (from groq) (4.11.0)\n",
            "Requirement already satisfied: idna>=2.8 in /usr/local/lib/python3.10/dist-packages (from anyio<5,>=3.5.0->groq) (3.7)\n",
            "Requirement already satisfied: exceptiongroup in /usr/local/lib/python3.10/dist-packages (from anyio<5,>=3.5.0->groq) (1.2.1)\n",
            "Requirement already satisfied: certifi in /usr/local/lib/python3.10/dist-packages (from httpx<1,>=0.23.0->groq) (2024.2.2)\n",
            "Requirement already satisfied: httpcore==1.* in /usr/local/lib/python3.10/dist-packages (from httpx<1,>=0.23.0->groq) (1.0.5)\n",
            "Requirement already satisfied: h11<0.15,>=0.13 in /usr/local/lib/python3.10/dist-packages (from httpcore==1.*->httpx<1,>=0.23.0->groq) (0.14.0)\n",
            "Requirement already satisfied: annotated-types>=0.4.0 in /usr/local/lib/python3.10/dist-packages (from pydantic<3,>=1.9.0->groq) (0.6.0)\n",
            "Requirement already satisfied: pydantic-core==2.18.2 in /usr/local/lib/python3.10/dist-packages (from pydantic<3,>=1.9.0->groq) (2.18.2)\n",
            "Installing collected packages: groq\n",
            "Successfully installed groq-0.5.0\n",
            "Requirement already satisfied: transformers in /usr/local/lib/python3.10/dist-packages (4.40.2)\n",
            "Requirement already satisfied: filelock in /usr/local/lib/python3.10/dist-packages (from transformers) (3.14.0)\n",
            "Requirement already satisfied: huggingface-hub<1.0,>=0.19.3 in /usr/local/lib/python3.10/dist-packages (from transformers) (0.20.3)\n",
            "Requirement already satisfied: numpy>=1.17 in /usr/local/lib/python3.10/dist-packages (from transformers) (1.25.2)\n",
            "Requirement already satisfied: packaging>=20.0 in /usr/local/lib/python3.10/dist-packages (from transformers) (24.0)\n",
            "Requirement already satisfied: pyyaml>=5.1 in /usr/local/lib/python3.10/dist-packages (from transformers) (6.0.1)\n",
            "Requirement already satisfied: regex!=2019.12.17 in /usr/local/lib/python3.10/dist-packages (from transformers) (2023.12.25)\n",
            "Requirement already satisfied: requests in /usr/local/lib/python3.10/dist-packages (from transformers) (2.31.0)\n",
            "Requirement already satisfied: tokenizers<0.20,>=0.19 in /usr/local/lib/python3.10/dist-packages (from transformers) (0.19.1)\n",
            "Requirement already satisfied: safetensors>=0.4.1 in /usr/local/lib/python3.10/dist-packages (from transformers) (0.4.3)\n",
            "Requirement already satisfied: tqdm>=4.27 in /usr/local/lib/python3.10/dist-packages (from transformers) (4.66.4)\n",
            "Requirement already satisfied: fsspec>=2023.5.0 in /usr/local/lib/python3.10/dist-packages (from huggingface-hub<1.0,>=0.19.3->transformers) (2023.6.0)\n",
            "Requirement already satisfied: typing-extensions>=3.7.4.3 in /usr/local/lib/python3.10/dist-packages (from huggingface-hub<1.0,>=0.19.3->transformers) (4.11.0)\n",
            "Requirement already satisfied: charset-normalizer<4,>=2 in /usr/local/lib/python3.10/dist-packages (from requests->transformers) (3.3.2)\n",
            "Requirement already satisfied: idna<4,>=2.5 in /usr/local/lib/python3.10/dist-packages (from requests->transformers) (3.7)\n",
            "Requirement already satisfied: urllib3<3,>=1.21.1 in /usr/local/lib/python3.10/dist-packages (from requests->transformers) (2.0.7)\n",
            "Requirement already satisfied: certifi>=2017.4.17 in /usr/local/lib/python3.10/dist-packages (from requests->transformers) (2024.2.2)\n"
          ]
        }
      ]
    },
    {
      "cell_type": "code",
      "execution_count": 2,
      "metadata": {
        "id": "-fcOLmCJ4AiS"
      },
      "outputs": [],
      "source": [
        "import itertools\n",
        "import re\n",
        "import numpy as np\n",
        "import pandas as pd\n",
        "# import openai\n",
        "import pandas as pd\n",
        "import itertools\n",
        "# import streamlit as st\n",
        "import pickle\n",
        "# Anna's imports\n",
        "from transformers import FlaxAutoModelForSeq2SeqLM\n",
        "from transformers import AutoTokenizer\n",
        "import matplotlib.pyplot as plt\n",
        "import matplotlib.image as mpimg\n",
        "from gradio_client import Client\n",
        "from transformers import pipeline\n",
        "from groq import Groq\n"
      ]
    },
    {
      "cell_type": "code",
      "execution_count": 3,
      "metadata": {
        "id": "gDXEFKxR4AiT"
      },
      "outputs": [],
      "source": [
        "df = pd.read_parquet('Halved-DF.parquet.gzip')"
      ]
    },
    {
      "cell_type": "code",
      "execution_count": 4,
      "metadata": {
        "id": "CXOGXHiG4AiS"
      },
      "outputs": [],
      "source": [
        "def combinations_of_two(ingredients_input): ###dealt with the issue of missing space crash\n",
        "\n",
        "    '''\n",
        "    The function generates all unique pairs of ingredients that can be made from the input list of ingredients.\n",
        "    NOTE FOR FRONT-END: The output of this function is the input for data_query()\n",
        "    '''\n",
        "\n",
        "    ingredients_combinations = []\n",
        "    powerpowerset = []\n",
        "    ingredients = re.split(r',', ingredients_input.strip())\n",
        "    ingredients_list = list(set(ingredient.strip() for ingredient in ingredients))\n",
        "    for r in range(len(ingredients_list)+1):\n",
        "        combinations = itertools.combinations(ingredients_list, r)\n",
        "        #powerset.extend(subset for subset in combinations if len(subset) > 1)\n",
        "        for comb in combinations:\n",
        "            if len(comb) > 1:\n",
        "                if len(comb) < 3:\n",
        "                    ingredients_combinations.append(comb)\n",
        "                else:\n",
        "                    powerpowerset.append(comb)\n",
        "                    for power in powerpowerset:\n",
        "                        lowerset = []\n",
        "                        combins = itertools.combinations(power, 2)\n",
        "                        for arrange in combins:\n",
        "                            lowerset.append(arrange)\n",
        "                    ingredients_combinations.append(lowerset)\n",
        "    return ingredients_combinations"
      ]
    },
    {
      "cell_type": "code",
      "execution_count": 5,
      "metadata": {
        "id": "FLH_yyRv4AiT"
      },
      "outputs": [],
      "source": [
        "def data_query(df, ingredients_combinations): ##Added a penalty of -5 for pairings that are not in the dataframe\n",
        "    data = []\n",
        "    for combination in ingredients_combinations:\n",
        "        if len(combination) < 3:\n",
        "            ingredient1, ingredient2 = combination\n",
        "            query_str = f'(ingredient1 == \"{ingredient1}\" & ingredient2 == \"{ingredient2}\") | (ingredient1 == \"{ingredient2}\" & ingredient2 == \"{ingredient1}\")'\n",
        "            score = df.query(query_str)['scaled_col'].values\n",
        "            if len(score) > 0:\n",
        "                data.append({'Combination': combination, 'Score': score})\n",
        "            else:\n",
        "                continue\n",
        "        else:\n",
        "            scores = []\n",
        "            for i in combination:\n",
        "                ingredient1, ingredient2 = i\n",
        "                query_str = f'(ingredient1 == \"{ingredient1}\" & ingredient2 == \"{ingredient2}\") | (ingredient1 == \"{ingredient2}\" & ingredient2 == \"{ingredient1}\")'\n",
        "                score = df.query(query_str)['scaled_col'].values\n",
        "                if len(score) > 0:\n",
        "                    scores.append(score[0])\n",
        "                else:\n",
        "                    scores.append(-5)\n",
        "            data.append({'Combination': combination, 'Score': scores})\n",
        "\n",
        "    df_comb = pd.DataFrame(data)\n",
        "    return df_comb"
      ]
    },
    {
      "cell_type": "code",
      "execution_count": 6,
      "metadata": {
        "id": "e7tWuDK24AiT"
      },
      "outputs": [],
      "source": [
        "def muse_comb(data_query_df): ###If this takes too long, consider taking the nested calculate_sum(array) outside of the function\n",
        "    '''\n",
        "     the function calculates the sum of the \"Score\" values and returns the three combinations with the largest sums\n",
        "     OUTPUT: [['yeast', 'butter', 'eggs', 'pepper', 'cabbage', 'pork', 'flour', 'sugar'],\n",
        "                 ['butter', 'eggs', 'pepper', 'cabbage', 'pork', 'flour', 'sugar'],\n",
        "                 ['yeast', 'butter', 'eggs', 'pepper', 'cabbage', 'flour', 'sugar']]\n",
        "\n",
        "     NOTE FOR FRONT-END: The return is a list of lists so access the values by indexing e.g. output[0]\n",
        "\n",
        "                         The output of this function is the input for the recipe generator\n",
        "\n",
        "                         We might need a function to convert each lists into strings if\n",
        "                         the recipe generator doesn't do this automatically.\n",
        "    '''\n",
        "\n",
        "    def calculate_sum(array):\n",
        "        return sum(array)\n",
        "\n",
        "    def ingredients_to_lists(lists):\n",
        "        ingredients_list = []\n",
        "        for i in range(3):\n",
        "            tmp_list = []\n",
        "            for x in lists[i]:\n",
        "                tmp_list.append(x[0])\n",
        "                tmp_list.append(x[1])\n",
        "            ingredients_list.append(list(set(tmp_list)))\n",
        "\n",
        "        return ingredients_list\n",
        "\n",
        "    for i in range(len(data_query_df)):\n",
        "        data_query_df[\"Sum\"] = data_query_df[\"Score\"].apply(calculate_sum)\n",
        "\n",
        "    max_values = data_query_df.nlargest(3, \"Sum\")\n",
        "\n",
        "    max_values = max_values[\"Combination\"].reset_index(drop=True)\n",
        "\n",
        "    ingredients_lists = ingredients_to_lists(max_values)\n",
        "\n",
        "    return ingredients_lists\n"
      ]
    },
    {
      "cell_type": "code",
      "execution_count": 18,
      "metadata": {
        "id": "lB8VK2-F4AiU"
      },
      "outputs": [],
      "source": [
        "def recipe_generator(lists):\n",
        "    api_key = \"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\"\n",
        "    client = Groq(\n",
        "    api_key=api_key\n",
        "    )\n",
        "    recipe_list = []\n",
        "\n",
        "    if len(lists) == 1:\n",
        "        chat_completion = client.chat.completions.create(\n",
        "            messages=[\n",
        "                {\n",
        "                    \"role\": \"user\",\n",
        "                    \"content\": f\"Suggest one recipe with {lists} only. The final format of the output should contain Title, Ingredients and Directions only\",\n",
        "                }\n",
        "            ],\n",
        "            model=\"llama3-8b-8192\",\n",
        "        )\n",
        "\n",
        "        recipe = chat_completion.choices[0].message.content\n",
        "\n",
        "        parts = recipe.split(\"**\")\n",
        "        title = parts[1].strip()\n",
        "        ingredients = parts[4].strip()\n",
        "        directions = parts[6].strip()\n",
        "\n",
        "        recipe_dict = {}\n",
        "        recipe_dict['title'] = title\n",
        "        recipe_dict['ingredients'] = ingredients\n",
        "        recipe_dict['directions'] = directions\n",
        "\n",
        "        recipe_list.append(recipe_dict)\n",
        "\n",
        "    else:\n",
        "      for i in range(len(lists)):\n",
        "        chat_completion = client.chat.completions.create(\n",
        "            messages=[\n",
        "                {\n",
        "                    \"role\": \"user\",\n",
        "                    \"content\": f\"Suggest one recipe with {lists[i]} only. The final format of the output should contain Title, Ingredients and Directions only\",\n",
        "                }\n",
        "            ],\n",
        "            model=\"llama3-8b-8192\",\n",
        "        )\n",
        "\n",
        "        recipe = chat_completion.choices[0].message.content\n",
        "\n",
        "        parts = recipe.split(\"**\")\n",
        "        title = parts[1].strip()\n",
        "        ingredients = parts[4].strip()\n",
        "        directions = parts[6].strip()\n",
        "\n",
        "        recipe_dict = {}\n",
        "        recipe_dict['title'] = title\n",
        "        recipe_dict['ingredients'] = ingredients\n",
        "        recipe_dict['directions'] = directions\n",
        "\n",
        "        recipe_list.append(recipe_dict)\n",
        "\n",
        "    return recipe_list\n"
      ]
    },
    {
      "cell_type": "code",
      "execution_count": 24,
      "metadata": {
        "id": "EL3Z18CS4AiV"
      },
      "outputs": [],
      "source": [
        "def final_recipes(recipe_dict, scores, model):  ###<=== Function for evaluating if the score passes the threshold and regenerating if it doesn't\n",
        "    \"\"\"\n",
        "    This evaluates whether the score of a recipe passes or fails the threshold.\n",
        "    If the recipe doesn't meet the threshold after 3 attempts, the last generated recipe is added.\n",
        "    INPUT: Output of the recipe generator function\n",
        "    NOTE FOR FRONT-END: it's important to make sure that the outputs of the new recipe generator are the same as the\n",
        "                        old version for this function to still work.\n",
        "                        optimized_gptrecipe() and scoring_model() must be replaced with the actual functions\n",
        "    \"\"\"\n",
        "    final_recipes = {\"Title\": [], \"Ingredients\": [], \"Directions\": []}\n",
        "    threshold = 0.5\n",
        "\n",
        "    for i in range(len(recipe_dict)):\n",
        "        if scores[i] >= threshold:\n",
        "            final_recipes[\"Title\"].append(recipe_dict[i]['title'])\n",
        "            final_recipes[\"Ingredients\"].append(recipe_dict[i]['ingredients'])\n",
        "            final_recipes[\"Directions\"].append(recipe_dict[i]['directions'])\n",
        "        else:\n",
        "            n = 0\n",
        "            tmp_recipe = {\n",
        "                \"Title\":recipe_dict[i]['title'],\n",
        "                \"Ingredients\":recipe_dict[i]['ingredients'],\n",
        "                \"Directions\":recipe_dict[i]['directions']\n",
        "                         }\n",
        "            last_recipe = {\"title\":[],\n",
        "                           \"ingredients\":[],\n",
        "                           \"directions\":[]\n",
        "                         }\n",
        "            while n < 3:\n",
        "                new_recipe = recipe_generator([tmp_recipe[\"Ingredients\"]]) ###<=== insert actual recipe generator\n",
        "                new_score = model.predict_proba([new_recipe[0]['directions']]) ###<=== insert the actual scoring model function here\n",
        "                if new_score[0][1] >= threshold:\n",
        "                    final_recipes[\"Title\"].append(new_recipe[0][\"title\"])\n",
        "                    final_recipes[\"Ingredients\"].append(new_recipe[0][\"ingredients\"])\n",
        "                    final_recipes[\"Directions\"].append(new_recipe[0][\"directions\"])\n",
        "                    break  # Exit loop if the new recipe passes the threshold\n",
        "                else:\n",
        "                    last_recipe = new_recipe  # Update tmp_recipe with the new recipe if the threshold isn't met\n",
        "                    n += 1\n",
        "            else: # Add the last generated recipe if the loop completes without finding a passing recipe\n",
        "                final_recipes[\"Title\"].append(last_recipe[\"title\"][0][0])\n",
        "                final_recipes[\"Ingredients\"].append(last_recipe[\"ingredients\"][0][0])\n",
        "                final_recipes[\"Directions\"].append(last_recipe[\"directions\"][0][0])\n",
        "                break  # Exit the outer loop to prevent an unending loop\n",
        "\n",
        "    return final_recipes"
      ]
    },
    {
      "cell_type": "code",
      "execution_count": 9,
      "metadata": {
        "colab": {
          "base_uri": "https://localhost:8080/"
        },
        "id": "9XJ2KzDU4AiV",
        "outputId": "3df66603-c5f9-4e39-e4ab-0ccb24c861ca",
        "collapsed": true
      },
      "outputs": [
        {
          "output_type": "stream",
          "name": "stderr",
          "text": [
            "/usr/local/lib/python3.10/dist-packages/sklearn/base.py:318: UserWarning: Trying to unpickle estimator TfidfTransformer from version 1.3.1 when using version 1.2.2. This might lead to breaking code or invalid results. Use at your own risk. For more info please refer to:\n",
            "https://scikit-learn.org/stable/model_persistence.html#security-maintainability-limitations\n",
            "  warnings.warn(\n",
            "/usr/local/lib/python3.10/dist-packages/sklearn/base.py:318: UserWarning: Trying to unpickle estimator TfidfVectorizer from version 1.3.1 when using version 1.2.2. This might lead to breaking code or invalid results. Use at your own risk. For more info please refer to:\n",
            "https://scikit-learn.org/stable/model_persistence.html#security-maintainability-limitations\n",
            "  warnings.warn(\n",
            "/usr/local/lib/python3.10/dist-packages/sklearn/base.py:318: UserWarning: Trying to unpickle estimator MultinomialNB from version 1.3.1 when using version 1.2.2. This might lead to breaking code or invalid results. Use at your own risk. For more info please refer to:\n",
            "https://scikit-learn.org/stable/model_persistence.html#security-maintainability-limitations\n",
            "  warnings.warn(\n",
            "/usr/local/lib/python3.10/dist-packages/sklearn/base.py:318: UserWarning: Trying to unpickle estimator Pipeline from version 1.3.1 when using version 1.2.2. This might lead to breaking code or invalid results. Use at your own risk. For more info please refer to:\n",
            "https://scikit-learn.org/stable/model_persistence.html#security-maintainability-limitations\n",
            "  warnings.warn(\n"
          ]
        }
      ],
      "source": [
        "def get_model():\n",
        "    with open(\"model.pickle\", \"rb\") as f:\n",
        "        model = pickle.load(f)\n",
        "    return model\n",
        "\n",
        "model = get_model()"
      ]
    },
    {
      "cell_type": "code",
      "source": [
        "combinations = combinations_of_two('chicken, mustard, coconut, orange, gravy')"
      ],
      "metadata": {
        "id": "kGT_bIkl79iu"
      },
      "execution_count": 26,
      "outputs": []
    },
    {
      "cell_type": "code",
      "source": [
        "df_comb = data_query(df, combinations)"
      ],
      "metadata": {
        "collapsed": true,
        "id": "ohH_xP8q7P5N"
      },
      "execution_count": 27,
      "outputs": []
    },
    {
      "cell_type": "code",
      "execution_count": 28,
      "metadata": {
        "colab": {
          "base_uri": "https://localhost:8080/"
        },
        "id": "UAY7TviP4AiT",
        "outputId": "09062948-e4da-4dac-e108-e258e60a09b8"
      },
      "outputs": [
        {
          "output_type": "execute_result",
          "data": {
            "text/plain": [
              "[['mustard', 'orange', 'coconut', 'chicken'],\n",
              " ['mustard', 'gravy', 'chicken'],\n",
              " ['orange', 'coconut', 'chicken']]"
            ]
          },
          "metadata": {},
          "execution_count": 28
        }
      ],
      "source": [
        "lists = muse_comb(df_comb)\n",
        "lists"
      ]
    },
    {
      "cell_type": "code",
      "execution_count": 29,
      "metadata": {
        "colab": {
          "base_uri": "https://localhost:8080/"
        },
        "id": "H-drw_Mp4AiU",
        "outputId": "5a8018f8-8275-4c05-cafb-289f3e39218a"
      },
      "outputs": [
        {
          "output_type": "execute_result",
          "data": {
            "text/plain": [
              "[{'title': 'Tropical Orange Chicken Stir Fry',\n",
              "  'ingredients': '* 1 lb boneless, skinless chicken breast or thighs\\n* 2 tbsp mustard\\n* 1/4 cup freshly squeezed orange juice\\n* 1/4 cup shredded coconut\\n* Salt and pepper to taste',\n",
              "  'directions': '1. Marinate the chicken in a mixture of mustard, orange juice, and a pinch of salt and pepper for at least 30 minutes.\\n2. Heat a non-stick pan over medium-high heat. Remove the chicken from the marinade, letting any excess liquid drip off.\\n3. Cook the chicken for 5-6 minutes per side, or until cooked through. Transfer to a plate and set aside.\\n4. Add the shredded coconut to the pan and cook, stirring constantly, for 2-3 minutes or until lightly toasted.\\n5. Serve the chicken with the toasted coconut and a squeeze of fresh orange juice.'},\n",
              " {'title': 'Braised Chicken with Mustard Gravy',\n",
              "  'ingredients': '* 1 1/2 pounds boneless, skinless chicken breasts, cut into 2-inch pieces\\n* 2 tablespoons mustard\\n* 1 cup chicken gravy',\n",
              "  'directions': '1. Preheat oven to 300°F (150°C).\\n2. In a large Dutch oven, combine chicken and mustard.\\n3. Pour in chicken gravy, making sure chicken is covered.\\n4. Cover and bake for 45-50 minutes or until chicken is tender.\\n5. Serve hot, garnished with fresh herbs if desired.'},\n",
              " {'title': 'Grilled Chicken with Orange-Coconut Glaze',\n",
              "  'ingredients': '* 1 1/2 pounds boneless, skinless chicken breasts\\n* 1/4 cup freshly squeezed orange juice\\n* 2 tablespoons coconut oil\\n* 2 tablespoons honey\\n* 1 tablespoon grated fresh ginger\\n* 1 teaspoon orange zest\\n* 1/4 cup shredded coconut\\n* Salt and pepper to taste',\n",
              "  'directions': '1. Preheat grill to medium-high heat.\\n2. In a small bowl, whisk together orange juice, honey, ginger, and orange zest.\\n3. Brush the glaze on the chicken breasts during the last 5 minutes of grilling.\\n4. Sprinkle shredded coconut on top of the chicken during the last minute of grilling.\\n5. Season with salt and pepper to taste.'}]"
            ]
          },
          "metadata": {},
          "execution_count": 29
        }
      ],
      "source": [
        "recipe_dicts = recipe_generator(lists)\n",
        "recipe_dicts"
      ]
    },
    {
      "cell_type": "code",
      "source": [
        "scores = []\n",
        "recipe_direction = []\n",
        "\n",
        "for recipe in recipe_dicts:\n",
        "    if 'directions' in recipe:\n",
        "        recipe_direction.append(recipe['directions'])\n",
        "    else:\n",
        "        recipe_direction.append(\"\")\n",
        "\n",
        "for direction in recipe_direction:\n",
        "    scores.append(model.predict_proba([direction])[0][1])\n",
        "\n",
        "print(scores)"
      ],
      "metadata": {
        "colab": {
          "base_uri": "https://localhost:8080/"
        },
        "id": "jr8A2eyA7z4a",
        "outputId": "a94e707c-b320-4914-b37d-59999e18b07e"
      },
      "execution_count": 30,
      "outputs": [
        {
          "output_type": "stream",
          "name": "stdout",
          "text": [
            "[0.5159218749136044, 0.4817264831001915, 0.494288609161796]\n"
          ]
        }
      ]
    },
    {
      "cell_type": "code",
      "execution_count": 31,
      "metadata": {
        "colab": {
          "base_uri": "https://localhost:8080/"
        },
        "id": "IBCbcdbv4AiV",
        "outputId": "b58edd7b-26d5-40c4-9bd0-d8a6e25f3542"
      },
      "outputs": [
        {
          "output_type": "stream",
          "name": "stdout",
          "text": [
            "{'Title': ['Tropical Orange Chicken Stir Fry', 'Honey Mustard Chicken', 'Grilled Orange Ginger Chicken'], 'Ingredients': ['* 1 lb boneless, skinless chicken breast or thighs\\n* 2 tbsp mustard\\n* 1/4 cup freshly squeezed orange juice\\n* 1/4 cup shredded coconut\\n* Salt and pepper to taste', '* 1 1/2 pounds boneless, skinless chicken breasts, cut into 2-inch pieces\\n* 2 tablespoons mustard\\n* 1 cup chicken gravy', '* 1 1/2 pounds boneless, skinless chicken breasts\\n* 1/4 cup freshly squeezed orange juice\\n* 2 tablespoons coconut oil\\n* 2 tablespoons honey\\n* 1 tablespoon grated fresh ginger\\n* 1 teaspoon orange zest\\n* 1/4 cup shredded coconut\\n* Salt and pepper to taste'], 'Directions': ['1. Marinate the chicken in a mixture of mustard, orange juice, and a pinch of salt and pepper for at least 30 minutes.\\n2. Heat a non-stick pan over medium-high heat. Remove the chicken from the marinade, letting any excess liquid drip off.\\n3. Cook the chicken for 5-6 minutes per side, or until cooked through. Transfer to a plate and set aside.\\n4. Add the shredded coconut to the pan and cook, stirring constantly, for 2-3 minutes or until lightly toasted.\\n5. Serve the chicken with the toasted coconut and a squeeze of fresh orange juice.', '1. Preheat oven to 375°F (190°C).\\n2. In a large bowl, whisk together mustard and chicken gravy.\\n3. Add chicken pieces to the bowl and toss to coat with mustard mixture.\\n4. Line a baking sheet with aluminum foil and spray with cooking spray.\\n5. Arrange chicken pieces on the baking sheet in a single layer.\\n6. Bake for 25-30 minutes or until chicken is cooked through.\\n7. Serve hot and enjoy!', '1. Preheat grill to medium-high heat.\\n2. In a small bowl, whisk together orange juice, honey, and ginger.\\n3. Brush the mixture evenly onto both sides of the chicken breasts.\\n4. Grill the chicken for 6-8 minutes per side, or until cooked through.\\n5. Sprinkle with shredded coconut and serve.']}\n"
          ]
        }
      ],
      "source": [
        "main_dict = final_recipes(recipe_dicts, scores, model)\n",
        "print(main_dict)"
      ]
    },
    {
      "cell_type": "code",
      "execution_count": 22,
      "metadata": {
        "id": "LacRG04u4AiV"
      },
      "outputs": [],
      "source": [
        "fake_scores = [0.5241604487770766, 0.3045873107190447, 0.1205374202247903]"
      ]
    },
    {
      "cell_type": "code",
      "source": [
        "test_dict = final_recipes(recipe_dicts, fake_scores, model)\n",
        "print(test_dict)"
      ],
      "metadata": {
        "colab": {
          "base_uri": "https://localhost:8080/"
        },
        "id": "yxYkOJ2B3t2b",
        "outputId": "b75f3c79-ac24-4b85-ec3e-373ecbedb89a"
      },
      "execution_count": 25,
      "outputs": [
        {
          "output_type": "stream",
          "name": "stdout",
          "text": [
            "{'Title': ['Citrus-Herb Chicken with Coconut Glaze', 'Braised Chicken Thighs with Mustard Gravy', 'Grilled Chicken with Orange-Glazed Coconut'], 'Ingredients': ['* 1 pound boneless, skinless chicken breasts\\n* 1/4 cup Dijon mustard\\n* 2 tablespoons orange marmalade\\n* 1 cup shredded coconut\\n* 1/4 cup freshly grated orange zest\\n* 2 tablespoons coconut oil\\n* Salt and pepper to taste', '* 1 1/2 lbs chicken thighs\\n* 2 tbsp mustard (such as Dijon or whole-grain mustard)\\n* 1 cup chicken gravy', '* 1 pound boneless, skinless chicken breasts\\n* 1/2 cup coconut milk\\n* 1/4 cup orange juice\\n* 2 tablespoons honey\\n* 1 teaspoon grated orange zest\\n* 1/4 teaspoon salt\\n* 1/4 teaspoon black pepper\\n* 1/4 cup shredded coconut\\n* 2 tablespoons unsweetened shredded coconut for garnish'], 'Directions': ['1. Preheat oven to 400°F (200°C).\\n2. In a small bowl, whisk together mustard, marmalade, and 1 tablespoon coconut oil.\\n3. Place the chicken on a baking sheet lined with parchment paper, brush the mustard mixture evenly over both sides of the chicken.\\n4. Bake for 25-30 minutes or until cooked through.\\n5. Meanwhile, mix shredded coconut and orange zest in a small bowl.\\n6. Once chicken is cooked, brush the top with remaining 1 tablespoon coconut oil and sprinkle with coconut-orange mixture.\\n7. Return to oven and bake for an additional 5 minutes, or until coconut is lightly toasted.\\n8. Let the chicken rest for 5 minutes before slicing and serving.', '1. Preheat the oven to 300°F (150°C).\\n2. Season the chicken thighs with salt and pepper.\\n3. Heat the mustard and chicken gravy in a large oven-safe skillet over medium heat, stirring to combine.\\n4. Add the chicken to the skillet and spoon some of the mustard gravy over the top of each thigh.\\n5. Transfer the skillet to the preheated oven and braise the chicken for 30-40 minutes, or until the meat is tender and falls apart easily.\\n6. Serve hot, garnished with fresh herbs if desired.', '1. Preheat grill to medium-high heat.\\n2. In a small bowl, whisk together coconut milk, orange juice, honey, orange zest, salt, and pepper.\\n3. Brush the glaze on the chicken breasts and season with salt and pepper.\\n4. Grill the chicken for 5-7 minutes per side or until cooked through.\\n5. Sprinkle with shredded coconut and garnish with additional unsweetened shredded coconut before serving.']}\n"
          ]
        }
      ]
    },
    {
      "cell_type": "code",
      "source": [],
      "metadata": {
        "id": "0UytMEhx31Hg"
      },
      "execution_count": null,
      "outputs": []
    }
  ],
  "metadata": {
    "kernelspec": {
      "display_name": "Python 3",
      "language": "python",
      "name": "python3"
    },
    "language_info": {
      "codemirror_mode": {
        "name": "ipython",
        "version": 3
      },
      "file_extension": ".py",
      "mimetype": "text/x-python",
      "name": "python",
      "nbconvert_exporter": "python",
      "pygments_lexer": "ipython3",
      "version": "3.10.6"
    },
    "colab": {
      "provenance": []
    }
  },
  "nbformat": 4,
  "nbformat_minor": 0
}