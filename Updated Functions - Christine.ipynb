{
 "cells": [
  {
   "cell_type": "code",
   "execution_count": 1,
   "id": "c07958ff",
   "metadata": {},
   "outputs": [],
   "source": [
    "import itertools\n",
    "import re\n",
    "import numpy as np\n",
    "import pandas as pd"
   ]
  },
  {
   "cell_type": "code",
   "execution_count": 2,
   "id": "f931c62c",
   "metadata": {},
   "outputs": [],
   "source": [
    "df = pd.read_parquet(\"Halved-DF.parquet.gzip\")"
   ]
  },
  {
   "cell_type": "code",
   "execution_count": 3,
   "id": "0894d3aa",
   "metadata": {},
   "outputs": [],
   "source": [
    "def data_query(df, ingredients_combinations): ##Added a penalty of -5 for pairings that are not in the dataframe\n",
    "    data = []\n",
    "    for combination in ingredients_combinations:\n",
    "        if len(combination) < 3:\n",
    "            ingredient1, ingredient2 = combination\n",
    "            query_str = f'(ingredient1 == \"{ingredient1}\" & ingredient2 == \"{ingredient2}\") | (ingredient1 == \"{ingredient2}\" & ingredient2 == \"{ingredient1}\")'\n",
    "            score = df.query(query_str)['scaled_col'].values\n",
    "            if len(score) > 0:\n",
    "                data.append({'Combination': combination, 'Score': score})\n",
    "            else:\n",
    "                continue\n",
    "        else:\n",
    "            scores = []\n",
    "            for i in combination:\n",
    "                ingredient1, ingredient2 = i\n",
    "                query_str = f'(ingredient1 == \"{ingredient1}\" & ingredient2 == \"{ingredient2}\") | (ingredient1 == \"{ingredient2}\" & ingredient2 == \"{ingredient1}\")'\n",
    "                score = df.query(query_str)['scaled_col'].values\n",
    "                if len(score) > 0:\n",
    "                    scores.append(score[0])\n",
    "                else:\n",
    "                    scores.append(-5)\n",
    "            data.append({'Combination': combination, 'Score': scores})\n",
    "        \n",
    "    df_comb = pd.DataFrame(data) \n",
    "    return df_comb"
   ]
  },
  {
   "cell_type": "code",
   "execution_count": 4,
   "id": "56ad6578",
   "metadata": {},
   "outputs": [],
   "source": [
    "def combinations_of_two(ingredients_input): ###dealt with the issue of missing space crash\n",
    "\n",
    "    '''The function generates all unique pairs of ingredients that can be made from the input list of ingredients.'''\n",
    "\n",
    "    powerset = []\n",
    "    powerpowerset = []\n",
    "    ingredients = re.split(r',', ingredients_input.strip())\n",
    "    ingredients_list = list(set(ingredient.strip() for ingredient in ingredients))\n",
    "    for r in range(len(ingredients_list)+1):\n",
    "        combinations = itertools.combinations(ingredients_list, r)\n",
    "        for comb in combinations:\n",
    "            if len(comb) > 1:\n",
    "                if len(comb) < 3:\n",
    "                    powerset.append(comb)\n",
    "                else:\n",
    "                    powerpowerset.append(comb)\n",
    "                    for power in powerpowerset:\n",
    "                        lowerset = []\n",
    "                        combins = itertools.combinations(power, 2)\n",
    "                        for arrange in combins:\n",
    "                            lowerset.append(arrange)\n",
    "                    powerset.append(lowerset)\n",
    "    return powerset"
   ]
  },
  {
   "cell_type": "code",
   "execution_count": 23,
   "id": "6e3e1cbc",
   "metadata": {},
   "outputs": [],
   "source": [
    "def muse_comb(data_query_df): ###If this takes too long, consider taking the nested calculate_sum(array) outside of the function\n",
    "    '''\n",
    "     the function calculates the sum of the \"Score\" values and returns the three combinations with the largest sums\n",
    "     OUTPUT: [['yeast', 'butter', 'eggs', 'pepper', 'cabbage', 'pork', 'flour', 'sugar'],\n",
    "                 ['butter', 'eggs', 'pepper', 'cabbage', 'pork', 'flour', 'sugar'],\n",
    "                 ['yeast', 'butter', 'eggs', 'pepper', 'cabbage', 'flour', 'sugar']]\n",
    "                 \n",
    "     NOTE FOR FRONT-END: The return is a list of lists so access the values by indexing e.g. output[0]\n",
    "     \n",
    "                         The output of this function is the input for the recipe generator\n",
    "                         \n",
    "                         We might need a function to convert each lists into strings if\n",
    "                         the recipe generator doesn't do this automatically.\n",
    "    '''\n",
    "    \n",
    "    def calculate_sum(array):\n",
    "        return sum(array)\n",
    "    \n",
    "    def ingredients_to_lists(lists):\n",
    "        ingredients_list = []\n",
    "        for i in range(3):\n",
    "            tmp_list = []\n",
    "            for x in lists[i]:\n",
    "                tmp_list.append(x[0])\n",
    "                tmp_list.append(x[1])\n",
    "            ingredients_list.append(list(set(tmp_list)))\n",
    "    \n",
    "        return ingredients_list\n",
    "\n",
    "    for i in range(len(data_query_df)):\n",
    "        data_query_df[\"Sum\"] = data_query_df[\"Score\"].apply(calculate_sum)\n",
    "\n",
    "    max_values = data_query_df.nlargest(3, \"Sum\")\n",
    "    \n",
    "    max_values = max_values[\"Combination\"].reset_index(drop=True)\n",
    "    \n",
    "    ingredients_lists = ingredients_to_lists(max_values) \n",
    "    \n",
    "    return ingredients_lists"
   ]
  },
  {
   "cell_type": "code",
   "execution_count": 6,
   "id": "89e18d67",
   "metadata": {},
   "outputs": [],
   "source": [
    "def get_ingredients_combinations(ingredients: str):\n",
    "    ingredients = [x.strip() for x in ingredients.split(',')]\n",
    "    candidates = []\n",
    "    for i in range(2, len(ingredients) + 1):\n",
    "        for c in itertools.combinations(ingredients, i):\n",
    "            keep = True\n",
    "            min_score = 1000\n",
    "            for a, b in itertools.combinations(c, 2):\n",
    "                min_score = min(scores.get((a, b), 0), min_score)\n",
    "                if min_score == 0:\n",
    "                    keep = False\n",
    "                    break\n",
    "            if keep:\n",
    "                candidates.append((c, min_score))\n",
    "        return candidates"
   ]
  },
  {
   "cell_type": "code",
   "execution_count": 7,
   "id": "f760d0df",
   "metadata": {},
   "outputs": [],
   "source": [
    "combinations = combinations_of_two('sugar, butter, flour, yeast, cabbage, pork, eggs, pepper')"
   ]
  },
  {
   "cell_type": "code",
   "execution_count": 8,
   "id": "bf0283a2",
   "metadata": {},
   "outputs": [],
   "source": [
    "result = data_query(df, combinations)"
   ]
  },
  {
   "cell_type": "code",
   "execution_count": 24,
   "id": "5fe23736",
   "metadata": {},
   "outputs": [],
   "source": [
    "lists = muse_comb(result)"
   ]
  },
  {
   "cell_type": "code",
   "execution_count": 37,
   "id": "03215789",
   "metadata": {},
   "outputs": [
    {
     "data": {
      "text/plain": [
       "[['yeast', 'butter', 'eggs', 'pepper', 'cabbage', 'pork', 'flour', 'sugar'],\n",
       " ['butter', 'eggs', 'pepper', 'cabbage', 'pork', 'flour', 'sugar'],\n",
       " ['yeast', 'butter', 'eggs', 'pepper', 'cabbage', 'flour', 'sugar']]"
      ]
     },
     "execution_count": 37,
     "metadata": {},
     "output_type": "execute_result"
    }
   ],
   "source": [
    "lists"
   ]
  },
  {
   "cell_type": "code",
   "execution_count": null,
   "id": "3aa3db5f",
   "metadata": {},
   "outputs": [],
   "source": []
  }
 ],
 "metadata": {
  "kernelspec": {
   "display_name": "Python 3 (ipykernel)",
   "language": "python",
   "name": "python3"
  },
  "language_info": {
   "codemirror_mode": {
    "name": "ipython",
    "version": 3
   },
   "file_extension": ".py",
   "mimetype": "text/x-python",
   "name": "python",
   "nbconvert_exporter": "python",
   "pygments_lexer": "ipython3",
   "version": "3.10.6"
  },
  "toc": {
   "base_numbering": 1,
   "nav_menu": {},
   "number_sections": true,
   "sideBar": true,
   "skip_h1_title": false,
   "title_cell": "Table of Contents",
   "title_sidebar": "Contents",
   "toc_cell": false,
   "toc_position": {},
   "toc_section_display": true,
   "toc_window_display": false
  }
 },
 "nbformat": 4,
 "nbformat_minor": 5
}
