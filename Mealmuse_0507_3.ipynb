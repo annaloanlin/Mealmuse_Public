{
 "cells": [
  {
   "cell_type": "code",
   "execution_count": 4,
   "metadata": {},
   "outputs": [],
   "source": [
    "import itertools\n",
    "import re\n",
    "import numpy as np\n",
    "import pandas as pd\n",
    "import openai\n",
    "import pandas as pd\n",
    "import itertools\n",
    "import streamlit as st\n",
    "import pickle\n",
    "# Anna's imports\n",
    "from transformers import FlaxAutoModelForSeq2SeqLM\n",
    "from transformers import AutoTokenizer\n",
    "import matplotlib.pyplot as plt\n",
    "import matplotlib.image as mpimg\n",
    "from gradio_client import Client\n",
    "from transformers import pipeline\n",
    "from groq import Groq\n"
   ]
  },
  {
   "cell_type": "code",
   "execution_count": 5,
   "metadata": {},
   "outputs": [],
   "source": [
    "def combinations_of_two(ingredients_input): ###dealt with the issue of missing space crash\n",
    "\n",
    "    '''\n",
    "    The function generates all unique pairs of ingredients that can be made from the input list of ingredients.\n",
    "    NOTE FOR FRONT-END: The output of this function is the input for data_query()\n",
    "    '''\n",
    "\n",
    "    ingredients_combinations = []\n",
    "    powerpowerset = []\n",
    "    ingredients = re.split(r',', ingredients_input.strip())\n",
    "    ingredients_list = list(set(ingredient.strip() for ingredient in ingredients))\n",
    "    for r in range(len(ingredients_list)+1):\n",
    "        combinations = itertools.combinations(ingredients_list, r)\n",
    "        #powerset.extend(subset for subset in combinations if len(subset) > 1)\n",
    "        for comb in combinations:\n",
    "            if len(comb) > 1:\n",
    "                if len(comb) < 3:\n",
    "                    ingredients_combinations.append(comb)\n",
    "                else:\n",
    "                    powerpowerset.append(comb)\n",
    "                    for power in powerpowerset:\n",
    "                        lowerset = []\n",
    "                        combins = itertools.combinations(power, 2)\n",
    "                        for arrange in combins:\n",
    "                            lowerset.append(arrange)\n",
    "                    ingredients_combinations.append(lowerset)\n",
    "    return ingredients_combinations\n",
    "\n",
    "combinations = combinations_of_two('chicken, onion, garlic, cheese')"
   ]
  },
  {
   "cell_type": "code",
   "execution_count": 6,
   "metadata": {},
   "outputs": [],
   "source": [
    "df = pd.read_parquet('Halved-DF.parquet.gzip')"
   ]
  },
  {
   "cell_type": "code",
   "execution_count": 7,
   "metadata": {},
   "outputs": [
    {
     "data": {
      "text/html": [
       "<div>\n",
       "<style scoped>\n",
       "    .dataframe tbody tr th:only-of-type {\n",
       "        vertical-align: middle;\n",
       "    }\n",
       "\n",
       "    .dataframe tbody tr th {\n",
       "        vertical-align: top;\n",
       "    }\n",
       "\n",
       "    .dataframe thead th {\n",
       "        text-align: right;\n",
       "    }\n",
       "</style>\n",
       "<table border=\"1\" class=\"dataframe\">\n",
       "  <thead>\n",
       "    <tr style=\"text-align: right;\">\n",
       "      <th></th>\n",
       "      <th>Combination</th>\n",
       "      <th>Score</th>\n",
       "    </tr>\n",
       "  </thead>\n",
       "  <tbody>\n",
       "    <tr>\n",
       "      <th>0</th>\n",
       "      <td>(onion, chicken)</td>\n",
       "      <td>[1.3248796627107513]</td>\n",
       "    </tr>\n",
       "    <tr>\n",
       "      <th>1</th>\n",
       "      <td>(onion, cheese)</td>\n",
       "      <td>[1.4120038875676597]</td>\n",
       "    </tr>\n",
       "    <tr>\n",
       "      <th>2</th>\n",
       "      <td>(onion, garlic)</td>\n",
       "      <td>[1.4235409132992736]</td>\n",
       "    </tr>\n",
       "    <tr>\n",
       "      <th>3</th>\n",
       "      <td>(chicken, cheese)</td>\n",
       "      <td>[1.0177501859513405]</td>\n",
       "    </tr>\n",
       "    <tr>\n",
       "      <th>4</th>\n",
       "      <td>(chicken, garlic)</td>\n",
       "      <td>[1.1800811339314616]</td>\n",
       "    </tr>\n",
       "    <tr>\n",
       "      <th>5</th>\n",
       "      <td>(cheese, garlic)</td>\n",
       "      <td>[1.0944496012124034]</td>\n",
       "    </tr>\n",
       "    <tr>\n",
       "      <th>6</th>\n",
       "      <td>[(onion, chicken), (onion, cheese), (chicken, ...</td>\n",
       "      <td>[1.3248796627107513, 1.4120038875676597, 1.017...</td>\n",
       "    </tr>\n",
       "    <tr>\n",
       "      <th>7</th>\n",
       "      <td>[(onion, chicken), (onion, garlic), (chicken, ...</td>\n",
       "      <td>[1.3248796627107513, 1.4235409132992736, 1.180...</td>\n",
       "    </tr>\n",
       "    <tr>\n",
       "      <th>8</th>\n",
       "      <td>[(onion, cheese), (onion, garlic), (cheese, ga...</td>\n",
       "      <td>[1.4120038875676597, 1.4235409132992736, 1.094...</td>\n",
       "    </tr>\n",
       "    <tr>\n",
       "      <th>9</th>\n",
       "      <td>[(chicken, cheese), (chicken, garlic), (cheese...</td>\n",
       "      <td>[1.0177501859513405, 1.1800811339314616, 1.094...</td>\n",
       "    </tr>\n",
       "    <tr>\n",
       "      <th>10</th>\n",
       "      <td>[(onion, chicken), (onion, cheese), (onion, ga...</td>\n",
       "      <td>[1.3248796627107513, 1.4120038875676597, 1.423...</td>\n",
       "    </tr>\n",
       "  </tbody>\n",
       "</table>\n",
       "</div>"
      ],
      "text/plain": [
       "                                          Combination  \\\n",
       "0                                    (onion, chicken)   \n",
       "1                                     (onion, cheese)   \n",
       "2                                     (onion, garlic)   \n",
       "3                                   (chicken, cheese)   \n",
       "4                                   (chicken, garlic)   \n",
       "5                                    (cheese, garlic)   \n",
       "6   [(onion, chicken), (onion, cheese), (chicken, ...   \n",
       "7   [(onion, chicken), (onion, garlic), (chicken, ...   \n",
       "8   [(onion, cheese), (onion, garlic), (cheese, ga...   \n",
       "9   [(chicken, cheese), (chicken, garlic), (cheese...   \n",
       "10  [(onion, chicken), (onion, cheese), (onion, ga...   \n",
       "\n",
       "                                                Score  \n",
       "0                                [1.3248796627107513]  \n",
       "1                                [1.4120038875676597]  \n",
       "2                                [1.4235409132992736]  \n",
       "3                                [1.0177501859513405]  \n",
       "4                                [1.1800811339314616]  \n",
       "5                                [1.0944496012124034]  \n",
       "6   [1.3248796627107513, 1.4120038875676597, 1.017...  \n",
       "7   [1.3248796627107513, 1.4235409132992736, 1.180...  \n",
       "8   [1.4120038875676597, 1.4235409132992736, 1.094...  \n",
       "9   [1.0177501859513405, 1.1800811339314616, 1.094...  \n",
       "10  [1.3248796627107513, 1.4120038875676597, 1.423...  "
      ]
     },
     "execution_count": 7,
     "metadata": {},
     "output_type": "execute_result"
    }
   ],
   "source": [
    "def data_query(df, ingredients_combinations): ##Added a penalty of -5 for pairings that are not in the dataframe\n",
    "    data = []\n",
    "    for combination in ingredients_combinations:\n",
    "        if len(combination) < 3:\n",
    "            ingredient1, ingredient2 = combination\n",
    "            query_str = f'(ingredient1 == \"{ingredient1}\" & ingredient2 == \"{ingredient2}\") | (ingredient1 == \"{ingredient2}\" & ingredient2 == \"{ingredient1}\")'\n",
    "            score = df.query(query_str)['scaled_col'].values\n",
    "            if len(score) > 0:\n",
    "                data.append({'Combination': combination, 'Score': score})\n",
    "            else:\n",
    "                continue\n",
    "        else:\n",
    "            scores = []\n",
    "            for i in combination:\n",
    "                ingredient1, ingredient2 = i\n",
    "                query_str = f'(ingredient1 == \"{ingredient1}\" & ingredient2 == \"{ingredient2}\") | (ingredient1 == \"{ingredient2}\" & ingredient2 == \"{ingredient1}\")'\n",
    "                score = df.query(query_str)['scaled_col'].values\n",
    "                if len(score) > 0:\n",
    "                    scores.append(score[0])\n",
    "                else:\n",
    "                    scores.append(-5)\n",
    "            data.append({'Combination': combination, 'Score': scores})\n",
    "\n",
    "    df_comb = pd.DataFrame(data)\n",
    "    return df_comb\n",
    "\n",
    "df_comb = data_query(df, combinations)\n",
    "df_comb"
   ]
  },
  {
   "cell_type": "code",
   "execution_count": 8,
   "metadata": {},
   "outputs": [],
   "source": [
    "def muse_comb(data_query_df): ###If this takes too long, consider taking the nested calculate_sum(array) outside of the function\n",
    "    '''\n",
    "     the function calculates the sum of the \"Score\" values and returns the three combinations with the largest sums\n",
    "     OUTPUT: [['yeast', 'butter', 'eggs', 'pepper', 'cabbage', 'pork', 'flour', 'sugar'],\n",
    "                 ['butter', 'eggs', 'pepper', 'cabbage', 'pork', 'flour', 'sugar'],\n",
    "                 ['yeast', 'butter', 'eggs', 'pepper', 'cabbage', 'flour', 'sugar']]\n",
    "\n",
    "     NOTE FOR FRONT-END: The return is a list of lists so access the values by indexing e.g. output[0]\n",
    "\n",
    "                         The output of this function is the input for the recipe generator\n",
    "\n",
    "                         We might need a function to convert each lists into strings if\n",
    "                         the recipe generator doesn't do this automatically.\n",
    "    '''\n",
    "\n",
    "    def calculate_sum(array):\n",
    "        return sum(array)\n",
    "\n",
    "    def ingredients_to_lists(lists):\n",
    "        ingredients_list = []\n",
    "        for i in range(3):\n",
    "            tmp_list = []\n",
    "            for x in lists[i]:\n",
    "                tmp_list.append(x[0])\n",
    "                tmp_list.append(x[1])\n",
    "            ingredients_list.append(list(set(tmp_list)))\n",
    "\n",
    "        return ingredients_list\n",
    "\n",
    "    for i in range(len(data_query_df)):\n",
    "        data_query_df[\"Sum\"] = data_query_df[\"Score\"].apply(calculate_sum)\n",
    "\n",
    "    max_values = data_query_df.nlargest(3, \"Sum\")\n",
    "\n",
    "    max_values = max_values[\"Combination\"].reset_index(drop=True)\n",
    "\n",
    "    ingredients_lists = ingredients_to_lists(max_values)\n",
    "\n",
    "    return ingredients_lists\n"
   ]
  },
  {
   "cell_type": "code",
   "execution_count": 9,
   "metadata": {},
   "outputs": [
    {
     "data": {
      "text/plain": [
       "[['onion', 'chicken', 'cheese', 'garlic'],\n",
       " ['onion', 'cheese', 'garlic'],\n",
       " ['onion', 'chicken', 'garlic']]"
      ]
     },
     "execution_count": 9,
     "metadata": {},
     "output_type": "execute_result"
    }
   ],
   "source": [
    "lists = muse_comb(df_comb)\n",
    "lists"
   ]
  },
  {
   "cell_type": "code",
   "execution_count": 10,
   "metadata": {},
   "outputs": [
    {
     "name": "stderr",
     "output_type": "stream",
     "text": [
      "2024-05-07 17:36:18.885 INFO    httpx: HTTP Request: POST https://api.groq.com/openai/v1/chat/completions \"HTTP/1.1 200 OK\"\n"
     ]
    },
    {
     "data": {
      "text/plain": [
       "'Here is a recipe that combines the given ingredients:\\n\\n**Cheesy Chicken Fritters**\\n================================\\n\\n**Ingredients**\\n\\n* 1 medium onion, finely chopped\\n* 1 lb boneless, skinless chicken breast or thighs, cut into small pieces\\n* 1 cup shredded cheese (such as cheddar or mozzarella)\\n* 3 cloves of garlic, minced\\n\\n**Directions**\\n\\n1. In a large bowl, combine the chopped onion, chicken, and garlic. Mix well until everything is fully incorporated.\\n2. Divide the mixture into 4-6 portions, depending on the size you prefer for your fritters.\\n3. Shape each portion into a ball and then flatten slightly into a disk shape.\\n4. Place the shredded cheese in the center of each disk and fold the chicken mixture over the cheese to form a ball.\\n5. Flatten each ball slightly and sandwich another small piece of cheese in the center.\\n6. Heat about 1/2 inch of oil in a large skillet over medium-high heat. When hot, add the fritters and cook until golden brown on both sides, about 4-5 minutes per side.\\n7. Serve hot and enjoy!'"
      ]
     },
     "execution_count": 10,
     "metadata": {},
     "output_type": "execute_result"
    }
   ],
   "source": [
    "api_key = \"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\"\n",
    "client = Groq(\n",
    "api_key=api_key\n",
    ")\n",
    "recipe_list = []\n",
    "chat_completion = client.chat.completions.create(\n",
    "    messages=[\n",
    "        {\n",
    "            \"role\": \"user\",\n",
    "            \"content\": f\"Suggest one recipe with {lists[0]} only. The final format of the output should contain Title, Ingredients and Directions only\",\n",
    "        }\n",
    "    ],\n",
    "    model=\"llama3-8b-8192\",\n",
    ")\n",
    "\n",
    "recipe = chat_completion.choices[0].message.content\n",
    "recipe"
   ]
  },
  {
   "cell_type": "code",
   "execution_count": 11,
   "metadata": {},
   "outputs": [
    {
     "data": {
      "text/plain": [
       "{'title': 'Cheesy Chicken Fritters',\n",
       " 'ingredients': '* 1 medium onion, finely chopped\\n* 1 lb boneless, skinless chicken breast or thighs, cut into small pieces\\n* 1 cup shredded cheese (such as cheddar or mozzarella)\\n* 3 cloves of garlic, minced',\n",
       " 'directions': '1. In a large bowl, combine the chopped onion, chicken, and garlic. Mix well until everything is fully incorporated.\\n2. Divide the mixture into 4-6 portions, depending on the size you prefer for your fritters.\\n3. Shape each portion into a ball and then flatten slightly into a disk shape.\\n4. Place the shredded cheese in the center of each disk and fold the chicken mixture over the cheese to form a ball.\\n5. Flatten each ball slightly and sandwich another small piece of cheese in the center.\\n6. Heat about 1/2 inch of oil in a large skillet over medium-high heat. When hot, add the fritters and cook until golden brown on both sides, about 4-5 minutes per side.\\n7. Serve hot and enjoy!'}"
      ]
     },
     "execution_count": 11,
     "metadata": {},
     "output_type": "execute_result"
    }
   ],
   "source": [
    "parts = recipe.split(\"**\")\n",
    "title = parts[1].strip()\n",
    "ingredients = parts[4].strip()\n",
    "directions = parts[6].strip()\n",
    "\n",
    "recipe_dict = {}\n",
    "recipe_dict['title'] = title\n",
    "recipe_dict['ingredients'] = ingredients\n",
    "recipe_dict['directions'] = directions\n",
    "recipe_dict"
   ]
  },
  {
   "cell_type": "code",
   "execution_count": 12,
   "metadata": {},
   "outputs": [],
   "source": [
    "def recipe_generator(lists):\n",
    "    api_key = \"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\"\n",
    "    client = Groq(\n",
    "    api_key=api_key\n",
    "    )\n",
    "    recipe_list = []\n",
    "    for i in range(len(lists)):\n",
    "        chat_completion = client.chat.completions.create(\n",
    "            messages=[\n",
    "                {\n",
    "                    \"role\": \"user\",\n",
    "                    \"content\": f\"Suggest one recipe with {lists[0]} only. The final format of the output should contain Title, Ingredients and Directions only\",\n",
    "                }\n",
    "            ],\n",
    "            model=\"llama3-8b-8192\",\n",
    "        )\n",
    "\n",
    "        recipe = chat_completion.choices[0].message.content\n",
    "\n",
    "        parts = recipe.split(\"**\")\n",
    "        title = parts[1].strip()\n",
    "        ingredients = parts[4].strip()\n",
    "        directions = parts[6].strip()\n",
    "\n",
    "        recipe_dict = {}\n",
    "        recipe_dict['title'] = title\n",
    "        recipe_dict['ingredients'] = ingredients\n",
    "        recipe_dict['directions'] = directions\n",
    "\n",
    "        recipe_list.append(recipe_dict)\n",
    "\n",
    "    return recipe_list\n"
   ]
  },
  {
   "cell_type": "code",
   "execution_count": 13,
   "metadata": {},
   "outputs": [
    {
     "name": "stderr",
     "output_type": "stream",
     "text": [
      "2024-05-07 17:36:19.967 INFO    httpx: HTTP Request: POST https://api.groq.com/openai/v1/chat/completions \"HTTP/1.1 200 OK\"\n",
      "2024-05-07 17:36:20.377 INFO    httpx: HTTP Request: POST https://api.groq.com/openai/v1/chat/completions \"HTTP/1.1 200 OK\"\n",
      "2024-05-07 17:36:20.839 INFO    httpx: HTTP Request: POST https://api.groq.com/openai/v1/chat/completions \"HTTP/1.1 200 OK\"\n"
     ]
    },
    {
     "data": {
      "text/plain": [
       "[{'title': 'Garlic Chicken Onion Frittata',\n",
       "  'ingredients': '* 1 large onion, diced\\n* 1 pound boneless, skinless chicken breast, cut into 1-inch pieces\\n* 3 cloves of garlic, minced\\n* 2 cups shredded cheese (cheddar or mozzarella work well)',\n",
       "  'directions': '1. Preheat oven to 375°F.\\n2. In a large skillet, cook the chicken and onion over medium-high heat until the chicken is cooked through and the onion is translucent.\\n3. Add the garlic and cook for 1 minute.\\n4. In a large bowl, whisk together 6 eggs and a pinch of salt.\\n5. Add the cooked chicken and onion mixture to the bowl and stir to combine.\\n6. In a greased 9-inch pie plate, add the egg mixture and top with the shredded cheese.\\n7. Bake for 25-30 minutes or until the eggs are set and the cheese is melted and golden brown.'},\n",
       " {'title': 'Chicken and Cheese Fritters',\n",
       "  'ingredients': '* 1 large onion, finely chopped\\n* 1 lb boneless chicken breast, cut into small pieces\\n* 1 cup shredded cheese\\n* 3 cloves garlic, minced',\n",
       "  'directions': '1. In a bowl, combine chopped onion, chicken, shredded cheese, and minced garlic. Mix well.\\n2. Divide the mixture into 6-8 portions, depending on the desired size of the fritters.\\n3. Shape each portion into a ball and then flatten slightly into a disk shape.\\n4. Heat a non-stick pan with a small amount of oil over medium heat. Cook the fritters until golden brown on both sides.\\n5. Serve hot and enjoy!'},\n",
       " {'title': 'Garlic Chicken and Onion Fritters',\n",
       "  'ingredients': '* 1 large onion, finely chopped\\n* 1 lb boneless, skinless chicken breast or thighs, cut into small pieces\\n* 2 cloves of garlic, minced\\n* 1 cup shredded cheese (any type)',\n",
       "  'directions': '1. In a large bowl, combine chopped onion, chicken, and garlic. Mix well.\\n2. Add shredded cheese to the bowl and mix until just combined.\\n3. Form the mixture into small patties.\\n4. Heat a non-stick skillet or griddle over medium heat.\\n5. Cook the patties for 3-4 minutes per side, or until golden brown and cooked through.\\n6. Serve hot and enjoy!'}]"
      ]
     },
     "execution_count": 13,
     "metadata": {},
     "output_type": "execute_result"
    }
   ],
   "source": [
    "recipe_dicts = recipe_generator(lists)\n",
    "recipe_dicts"
   ]
  },
  {
   "cell_type": "code",
   "execution_count": 16,
   "metadata": {},
   "outputs": [
    {
     "data": {
      "text/plain": [
       "3"
      ]
     },
     "execution_count": 16,
     "metadata": {},
     "output_type": "execute_result"
    }
   ],
   "source": [
    "len(recipe_dicts)"
   ]
  },
  {
   "cell_type": "code",
   "execution_count": 52,
   "metadata": {},
   "outputs": [
    {
     "name": "stdout",
     "output_type": "stream",
     "text": [
      "[0.5356263108500366, 0.5356263108500366, 0.5356263108500366]\n"
     ]
    }
   ],
   "source": [
    "def get_model():\n",
    "    with open(\"model.pickle\", \"rb\") as f:\n",
    "        model = pickle.load(f)\n",
    "    return model\n",
    "\n",
    "model = get_model()\n",
    "\n",
    "scores = []\n",
    "\n",
    "for i in recipe_dicts:\n",
    "    scores.append(model.predict_proba(i)[2][0])\n",
    "\n",
    "print(scores)"
   ]
  },
  {
   "cell_type": "code",
   "execution_count": 48,
   "metadata": {},
   "outputs": [],
   "source": [
    "def final_recipes(recipe_dict, scores, model):  ###<=== Function for evaluating if the score passes the threshold and regenerating if it doesn't\n",
    "    \"\"\"\n",
    "    This evaluates whether the score of a recipe passes or fails the threshold.\n",
    "    If the recipe doesn't meet the threshold after 3 attempts, the last generated recipe is added.\n",
    "    INPUT: Output of the recipe generator function\n",
    "    NOTE FOR FRONT-END: it's important to make sure that the outputs of the new recipe generator are the same as the\n",
    "                        old version for this function to still work.\n",
    "                        optimized_gptrecipe() and scoring_model() must be replaced with the actual functions\n",
    "    \"\"\"\n",
    "    final_recipes = {\"Title\": [], \"Ingredients\": [], \"Instructions\": []}\n",
    "    threshold = 0.1\n",
    "\n",
    "    for i in range(len(recipe_dict)):\n",
    "        if scores[i] >= threshold:\n",
    "            final_recipes[\"Title\"].append([recipe['title'] for recipe in recipe_dicts][i])\n",
    "            final_recipes[\"Ingredients\"].append([recipe[\"ingredients\"] for recipe in recipe_dicts][i])\n",
    "            final_recipes[\"Instructions\"].append([recipe[\"directions\"] for recipe in recipe_dicts][i])\n",
    "        else:\n",
    "            n = 0\n",
    "            tmp_recipe = {\n",
    "                \"Title\":[recipe['title'] for recipe in recipe_dicts][i],\n",
    "                \"Ingredients\":[recipe[\"ingredients\"] for recipe in recipe_dicts][i],\n",
    "                \"Instructions\":[recipe[\"directions\"] for recipe in recipe_dicts][i]\n",
    "                         }\n",
    "            last_recipe = {\n",
    "                \"Title\":[recipe['title'] for recipe in recipe_dicts][i],\n",
    "                \"Ingredients\":[recipe[\"ingredients\"] for recipe in recipe_dicts][i],\n",
    "                \"Instructions\":[recipe[\"directions\"] for recipe in recipe_dicts][i]\n",
    "                         }\n",
    "            while n < 3:\n",
    "                new_recipe = recipe_generator(tmp_recipe[\"Ingredients\"][0]) ###<=== insert actual recipe generator\n",
    "                new_score = model.predict_proba(new_recipe[\"Instructions\"][0]) ###<=== insert the actual scoring model function here\n",
    "                if new_score >= threshold:\n",
    "                    final_recipes[\"Title\"].append(new_recipe[\"Title\"])\n",
    "                    final_recipes[\"Ingredients\"].append(new_recipe[\"Ingredients\"])\n",
    "                    final_recipes[\"Instructions\"].append(new_recipe[\"Instructions\"])\n",
    "                    break  # Exit loop if the new recipe passes the threshold\n",
    "                else:\n",
    "                    last_recipe = new_recipe  # Update tmp_recipe with the new recipe if the threshold isn't met\n",
    "                    n += 1\n",
    "            else: # Add the last generated recipe if the loop completes without finding a passing recipe\n",
    "                final_recipes[\"Title\"].append(last_recipe[\"Title\"])\n",
    "                final_recipes[\"Ingredients\"].append(last_recipe[\"Ingredients\"])\n",
    "                final_recipes[\"Instructions\"].append(last_recipe[\"Instructions\"])\n",
    "                break  # Exit the outer loop to prevent an unending loop\n",
    "\n",
    "    return final_recipes"
   ]
  },
  {
   "cell_type": "code",
   "execution_count": 53,
   "metadata": {},
   "outputs": [
    {
     "name": "stdout",
     "output_type": "stream",
     "text": [
      "{'Title': ['Garlic Chicken Onion Frittata', 'Chicken and Cheese Fritters', 'Garlic Chicken and Onion Fritters'], 'Ingredients': ['* 1 large onion, diced\\n* 1 pound boneless, skinless chicken breast, cut into 1-inch pieces\\n* 3 cloves of garlic, minced\\n* 2 cups shredded cheese (cheddar or mozzarella work well)', '* 1 large onion, finely chopped\\n* 1 lb boneless chicken breast, cut into small pieces\\n* 1 cup shredded cheese\\n* 3 cloves garlic, minced', '* 1 large onion, finely chopped\\n* 1 lb boneless, skinless chicken breast or thighs, cut into small pieces\\n* 2 cloves of garlic, minced\\n* 1 cup shredded cheese (any type)'], 'Instructions': ['1. Preheat oven to 375°F.\\n2. In a large skillet, cook the chicken and onion over medium-high heat until the chicken is cooked through and the onion is translucent.\\n3. Add the garlic and cook for 1 minute.\\n4. In a large bowl, whisk together 6 eggs and a pinch of salt.\\n5. Add the cooked chicken and onion mixture to the bowl and stir to combine.\\n6. In a greased 9-inch pie plate, add the egg mixture and top with the shredded cheese.\\n7. Bake for 25-30 minutes or until the eggs are set and the cheese is melted and golden brown.', '1. In a bowl, combine chopped onion, chicken, shredded cheese, and minced garlic. Mix well.\\n2. Divide the mixture into 6-8 portions, depending on the desired size of the fritters.\\n3. Shape each portion into a ball and then flatten slightly into a disk shape.\\n4. Heat a non-stick pan with a small amount of oil over medium heat. Cook the fritters until golden brown on both sides.\\n5. Serve hot and enjoy!', '1. In a large bowl, combine chopped onion, chicken, and garlic. Mix well.\\n2. Add shredded cheese to the bowl and mix until just combined.\\n3. Form the mixture into small patties.\\n4. Heat a non-stick skillet or griddle over medium heat.\\n5. Cook the patties for 3-4 minutes per side, or until golden brown and cooked through.\\n6. Serve hot and enjoy!']}\n"
     ]
    }
   ],
   "source": [
    "main_dict = final_recipes(recipe_dicts, scores, model)\n",
    "print(main_dict)"
   ]
  },
  {
   "cell_type": "code",
   "execution_count": 55,
   "metadata": {},
   "outputs": [],
   "source": [
    "scores2 = [0.01, 0.5356263108500366, 0.5356263108500366]"
   ]
  },
  {
   "cell_type": "code",
   "execution_count": 56,
   "metadata": {},
   "outputs": [
    {
     "name": "stderr",
     "output_type": "stream",
     "text": [
      "2024-05-07 17:56:10.781 INFO    httpx: HTTP Request: POST https://api.groq.com/openai/v1/chat/completions \"HTTP/1.1 503 Service Unavailable\"\n",
      "2024-05-07 17:56:10.782 INFO    groq._base_client: Retrying request to /openai/v1/chat/completions in 5.000000 seconds\n",
      "2024-05-07 17:56:16.370 INFO    httpx: HTTP Request: POST https://api.groq.com/openai/v1/chat/completions \"HTTP/1.1 200 OK\"\n"
     ]
    },
    {
     "ename": "IndexError",
     "evalue": "list index out of range",
     "output_type": "error",
     "traceback": [
      "\u001b[0;31m---------------------------------------------------------------------------\u001b[0m",
      "\u001b[0;31mIndexError\u001b[0m                                Traceback (most recent call last)",
      "Cell \u001b[0;32mIn [56], line 1\u001b[0m\n\u001b[0;32m----> 1\u001b[0m main_dict \u001b[38;5;241m=\u001b[39m \u001b[43mfinal_recipes\u001b[49m\u001b[43m(\u001b[49m\u001b[43mrecipe_dicts\u001b[49m\u001b[43m,\u001b[49m\u001b[43m \u001b[49m\u001b[43mscores2\u001b[49m\u001b[43m,\u001b[49m\u001b[43m \u001b[49m\u001b[43mmodel\u001b[49m\u001b[43m)\u001b[49m\n\u001b[1;32m      2\u001b[0m \u001b[38;5;28mprint\u001b[39m(main_dict)\n",
      "Cell \u001b[0;32mIn [48], line 31\u001b[0m, in \u001b[0;36mfinal_recipes\u001b[0;34m(recipe_dict, scores, model)\u001b[0m\n\u001b[1;32m     25\u001b[0m last_recipe \u001b[38;5;241m=\u001b[39m {\n\u001b[1;32m     26\u001b[0m     \u001b[38;5;124m\"\u001b[39m\u001b[38;5;124mTitle\u001b[39m\u001b[38;5;124m\"\u001b[39m:[recipe[\u001b[38;5;124m'\u001b[39m\u001b[38;5;124mtitle\u001b[39m\u001b[38;5;124m'\u001b[39m] \u001b[38;5;28;01mfor\u001b[39;00m recipe \u001b[38;5;129;01min\u001b[39;00m recipe_dicts][i],\n\u001b[1;32m     27\u001b[0m     \u001b[38;5;124m\"\u001b[39m\u001b[38;5;124mIngredients\u001b[39m\u001b[38;5;124m\"\u001b[39m:[recipe[\u001b[38;5;124m\"\u001b[39m\u001b[38;5;124mingredients\u001b[39m\u001b[38;5;124m\"\u001b[39m] \u001b[38;5;28;01mfor\u001b[39;00m recipe \u001b[38;5;129;01min\u001b[39;00m recipe_dicts][i],\n\u001b[1;32m     28\u001b[0m     \u001b[38;5;124m\"\u001b[39m\u001b[38;5;124mInstructions\u001b[39m\u001b[38;5;124m\"\u001b[39m:[recipe[\u001b[38;5;124m\"\u001b[39m\u001b[38;5;124mdirections\u001b[39m\u001b[38;5;124m\"\u001b[39m] \u001b[38;5;28;01mfor\u001b[39;00m recipe \u001b[38;5;129;01min\u001b[39;00m recipe_dicts][i]\n\u001b[1;32m     29\u001b[0m              }\n\u001b[1;32m     30\u001b[0m \u001b[38;5;28;01mwhile\u001b[39;00m n \u001b[38;5;241m<\u001b[39m \u001b[38;5;241m3\u001b[39m:\n\u001b[0;32m---> 31\u001b[0m     new_recipe \u001b[38;5;241m=\u001b[39m \u001b[43mrecipe_generator\u001b[49m\u001b[43m(\u001b[49m\u001b[43mtmp_recipe\u001b[49m\u001b[43m[\u001b[49m\u001b[38;5;124;43m\"\u001b[39;49m\u001b[38;5;124;43mIngredients\u001b[39;49m\u001b[38;5;124;43m\"\u001b[39;49m\u001b[43m]\u001b[49m\u001b[43m[\u001b[49m\u001b[38;5;241;43m0\u001b[39;49m\u001b[43m]\u001b[49m\u001b[43m)\u001b[49m \u001b[38;5;66;03m###<=== insert actual recipe generator\u001b[39;00m\n\u001b[1;32m     32\u001b[0m     new_score \u001b[38;5;241m=\u001b[39m model\u001b[38;5;241m.\u001b[39mpredict_proba(new_recipe[\u001b[38;5;124m\"\u001b[39m\u001b[38;5;124mInstructions\u001b[39m\u001b[38;5;124m\"\u001b[39m][\u001b[38;5;241m0\u001b[39m]) \u001b[38;5;66;03m###<=== insert the actual scoring model function here\u001b[39;00m\n\u001b[1;32m     33\u001b[0m     \u001b[38;5;28;01mif\u001b[39;00m new_score \u001b[38;5;241m>\u001b[39m\u001b[38;5;241m=\u001b[39m threshold:\n",
      "Cell \u001b[0;32mIn [12], line 22\u001b[0m, in \u001b[0;36mrecipe_generator\u001b[0;34m(lists)\u001b[0m\n\u001b[1;32m     20\u001b[0m parts \u001b[38;5;241m=\u001b[39m recipe\u001b[38;5;241m.\u001b[39msplit(\u001b[38;5;124m\"\u001b[39m\u001b[38;5;124m**\u001b[39m\u001b[38;5;124m\"\u001b[39m)\n\u001b[1;32m     21\u001b[0m title \u001b[38;5;241m=\u001b[39m parts[\u001b[38;5;241m1\u001b[39m]\u001b[38;5;241m.\u001b[39mstrip()\n\u001b[0;32m---> 22\u001b[0m ingredients \u001b[38;5;241m=\u001b[39m \u001b[43mparts\u001b[49m\u001b[43m[\u001b[49m\u001b[38;5;241;43m4\u001b[39;49m\u001b[43m]\u001b[49m\u001b[38;5;241m.\u001b[39mstrip()\n\u001b[1;32m     23\u001b[0m directions \u001b[38;5;241m=\u001b[39m parts[\u001b[38;5;241m6\u001b[39m]\u001b[38;5;241m.\u001b[39mstrip()\n\u001b[1;32m     25\u001b[0m recipe_dict \u001b[38;5;241m=\u001b[39m {}\n",
      "\u001b[0;31mIndexError\u001b[0m: list index out of range"
     ]
    }
   ],
   "source": [
    "main_dict = final_recipes(recipe_dicts, scores2, model)\n",
    "print(main_dict)"
   ]
  },
  {
   "cell_type": "code",
   "execution_count": null,
   "metadata": {},
   "outputs": [],
   "source": []
  }
 ],
 "metadata": {
  "kernelspec": {
   "display_name": "Python 3",
   "language": "python",
   "name": "python3"
  },
  "language_info": {
   "codemirror_mode": {
    "name": "ipython",
    "version": 3
   },
   "file_extension": ".py",
   "mimetype": "text/x-python",
   "name": "python",
   "nbconvert_exporter": "python",
   "pygments_lexer": "ipython3",
   "version": "3.10.6"
  }
 },
 "nbformat": 4,
 "nbformat_minor": 2
}
