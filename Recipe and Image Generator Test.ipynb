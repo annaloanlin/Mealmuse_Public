{
 "cells": [
  {
   "cell_type": "code",
   "execution_count": 1,
   "id": "e8ad1280",
   "metadata": {},
   "outputs": [],
   "source": [
    "from Recipe_image_generator import recipe_generator, convert_to_dictionary"
   ]
  },
  {
   "cell_type": "code",
   "execution_count": 2,
   "id": "d63e90e2",
   "metadata": {},
   "outputs": [],
   "source": [
    "items = [\n",
    "    \"macaroni, butter, salt, bacon, milk, flour, pepper, cream corn\",\n",
    "]"
   ]
  },
  {
   "cell_type": "code",
   "execution_count": 3,
   "id": "64f2c624",
   "metadata": {},
   "outputs": [],
   "source": [
    "recipe = recipe_generator(items)"
   ]
  },
  {
   "cell_type": "code",
   "execution_count": 4,
   "id": "63bc300c",
   "metadata": {},
   "outputs": [
    {
     "data": {
      "text/plain": [
       "[' title: corn casserole\\n ingredients: 1 1/2 c. macaroni-- 2 tbsp. butter or margarine-- 1/2 tsp. salt-- 4 strips bacon-- 2 c. milk-- 2 tbsp. flour-- 1/4 tsp. pepper-- 2 cans cream corn\\n directions: cook macaroni until tender.-- saute bacon and pour off excess drippings.-- stir in flour and salt and pepper.-- add milk.-- cook until thickened.-- add cream corn and macaroni.-- pour in casserole dish and sprinkle with bacon.-- bake at 350 until bubbly.']"
      ]
     },
     "execution_count": 4,
     "metadata": {},
     "output_type": "execute_result"
    }
   ],
   "source": [
    "recipe"
   ]
  },
  {
   "cell_type": "code",
   "execution_count": 5,
   "id": "e1c14e1a",
   "metadata": {},
   "outputs": [
    {
     "data": {
      "text/plain": [
       "[{'TITLE': 'corn casserole',\n",
       "  'INGREDIENTS': '1. 1 1/2 c. macaroni\\n2. 2 tbsp. butter or margarine\\n3. 1/2 tsp. salt\\n4. 4 strips bacon\\n5. 2 c. milk\\n6. 2 tbsp. flour\\n7. 1/4 tsp. pepper\\n8. 2 cans cream corn',\n",
       "  'DIRECTIONS': '1. Cook macaroni until tender.\\n2. Saute bacon and pour off excess drippings.\\n3. Stir in flour and salt and pepper.\\n4. Add milk.\\n5. Cook until thickened.\\n6. Add cream corn and macaroni.\\n7. Pour in casserole dish and sprinkle with bacon.\\n8. Bake at 350 until bubbly.'}]"
      ]
     },
     "execution_count": 5,
     "metadata": {},
     "output_type": "execute_result"
    }
   ],
   "source": [
    "convert_to_dictionary(recipe)"
   ]
  },
  {
   "cell_type": "code",
   "execution_count": 6,
   "id": "f1d0d8dd",
   "metadata": {},
   "outputs": [],
   "source": [
    "from Recipe_image_generator import image_generator"
   ]
  },
  {
   "cell_type": "code",
   "execution_count": 7,
   "id": "eb3f0088",
   "metadata": {},
   "outputs": [
    {
     "name": "stdout",
     "output_type": "stream",
     "text": [
      "Loaded as API: https://playgroundai-playground-v2-5.hf.space/--replicas/o9oxl/ ✔\n"
     ]
    },
    {
     "data": {
      "text/plain": [
       "'/private/var/folders/6k/47szr19n3q9b475tdmrfp68h0000gn/T/gradio/5014e9911eefdca008c9b4eb3069be805c90a9e2/1281ad09-ddc1-4365-836d-20f6706e7b89.png'"
      ]
     },
     "execution_count": 7,
     "metadata": {},
     "output_type": "execute_result"
    }
   ],
   "source": [
    "image_generator(recipe)"
   ]
  },
  {
   "cell_type": "code",
   "execution_count": null,
   "id": "bb50ce03",
   "metadata": {},
   "outputs": [],
   "source": []
  }
 ],
 "metadata": {
  "kernelspec": {
   "display_name": "Python 3 (ipykernel)",
   "language": "python",
   "name": "python3"
  },
  "language_info": {
   "codemirror_mode": {
    "name": "ipython",
    "version": 3
   },
   "file_extension": ".py",
   "mimetype": "text/x-python",
   "name": "python",
   "nbconvert_exporter": "python",
   "pygments_lexer": "ipython3",
   "version": "3.10.6"
  },
  "toc": {
   "base_numbering": 1,
   "nav_menu": {},
   "number_sections": true,
   "sideBar": true,
   "skip_h1_title": false,
   "title_cell": "Table of Contents",
   "title_sidebar": "Contents",
   "toc_cell": false,
   "toc_position": {},
   "toc_section_display": true,
   "toc_window_display": false
  }
 },
 "nbformat": 4,
 "nbformat_minor": 5
}
